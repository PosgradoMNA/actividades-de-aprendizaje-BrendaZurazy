{
  "nbformat": 4,
  "nbformat_minor": 0,
  "metadata": {
    "colab": {
      "provenance": [],
      "collapsed_sections": [],
      "authorship_tag": "ABX9TyMFE9p+pqKjZ/CRed89baHp",
      "include_colab_link": true
    },
    "kernelspec": {
      "name": "python3",
      "display_name": "Python 3"
    },
    "language_info": {
      "name": "python"
    }
  },
  "cells": [
    {
      "cell_type": "markdown",
      "metadata": {
        "id": "view-in-github",
        "colab_type": "text"
      },
      "source": [
        "<a href=\"https://colab.research.google.com/github/PosgradoMNA/actividades-de-aprendizaje-BrendaZurazy/blob/main/BrendaRodriguez_IBM_Modulo3.ipynb\" target=\"_parent\"><img src=\"https://colab.research.google.com/assets/colab-badge.svg\" alt=\"Open In Colab\"/></a>"
      ]
    },
    {
      "cell_type": "markdown",
      "source": [
        "# Python for Data Science (IBM)\n",
        "## Módulo 3"
      ],
      "metadata": {
        "id": "rTnf9nJ8b19w"
      }
    },
    {
      "cell_type": "markdown",
      "source": [
        "###Excepciones"
      ],
      "metadata": {
        "id": "FS5h9SRbmovl"
      }
    },
    {
      "cell_type": "code",
      "source": [
        "#try except\n",
        "a = 1\n",
        "\n",
        "try:\n",
        "    b = int(input(\"Please enter a number to divide a \"))\n",
        "    a = a/b\n",
        "    print(\"Success a=\",a)\n",
        "except:\n",
        "    print(\"There was an error\")"
      ],
      "metadata": {
        "colab": {
          "base_uri": "https://localhost:8080/"
        },
        "id": "rr-wmjJVmq8H",
        "outputId": "bd9df095-c2ae-463d-fb73-cb9da989ccb3"
      },
      "execution_count": null,
      "outputs": [
        {
          "output_type": "stream",
          "name": "stdout",
          "text": [
            "Please enter a number to divide a e\n",
            "There was an error\n"
          ]
        }
      ]
    },
    {
      "cell_type": "markdown",
      "source": [
        "###Condicionales"
      ],
      "metadata": {
        "id": "11yGJcRvhfKH"
      }
    },
    {
      "cell_type": "code",
      "source": [
        "i=4\n",
        "print(i)"
      ],
      "metadata": {
        "colab": {
          "base_uri": "https://localhost:8080/"
        },
        "id": "SFG5kUjbhg-v",
        "outputId": "cedefd2c-0af6-481f-cc4d-29996eff6e0c"
      },
      "execution_count": null,
      "outputs": [
        {
          "output_type": "stream",
          "name": "stdout",
          "text": [
            "4\n"
          ]
        }
      ]
    },
    {
      "cell_type": "code",
      "source": [
        "i>7"
      ],
      "metadata": {
        "colab": {
          "base_uri": "https://localhost:8080/"
        },
        "id": "8fC3X0uFhoVV",
        "outputId": "d517be4b-f691-4d57-f1d0-f35fcf79a25c"
      },
      "execution_count": null,
      "outputs": [
        {
          "output_type": "execute_result",
          "data": {
            "text/plain": [
              "False"
            ]
          },
          "metadata": {},
          "execution_count": 10
        }
      ]
    },
    {
      "cell_type": "code",
      "source": [
        "i!=0"
      ],
      "metadata": {
        "colab": {
          "base_uri": "https://localhost:8080/"
        },
        "id": "1kpeZ61ihp2e",
        "outputId": "4368554f-4095-49b7-b9a0-bd8f3b60b277"
      },
      "execution_count": null,
      "outputs": [
        {
          "output_type": "execute_result",
          "data": {
            "text/plain": [
              "True"
            ]
          },
          "metadata": {},
          "execution_count": 13
        }
      ]
    },
    {
      "cell_type": "code",
      "source": [
        "#Los condicionales también se pueden aplicar a las variables tipo cadena\n",
        "\"EL padrino\" == \"Pandillas de New York\""
      ],
      "metadata": {
        "colab": {
          "base_uri": "https://localhost:8080/"
        },
        "id": "3uhqdki-iUbu",
        "outputId": "571b2363-2c54-4ab8-dcdf-8816a0c41215"
      },
      "execution_count": null,
      "outputs": [
        {
          "output_type": "execute_result",
          "data": {
            "text/plain": [
              "False"
            ]
          },
          "metadata": {},
          "execution_count": 24
        }
      ]
    },
    {
      "cell_type": "code",
      "source": [
        "\"EL padrino\" != \"Pandillas de New York\""
      ],
      "metadata": {
        "colab": {
          "base_uri": "https://localhost:8080/"
        },
        "id": "LcgK6ityiicm",
        "outputId": "7f039dd5-d03a-4b18-c5d8-cefb56ce4a60"
      },
      "execution_count": null,
      "outputs": [
        {
          "output_type": "execute_result",
          "data": {
            "text/plain": [
              "True"
            ]
          },
          "metadata": {},
          "execution_count": 16
        }
      ]
    },
    {
      "cell_type": "markdown",
      "source": [
        "###Branching"
      ],
      "metadata": {
        "id": "1mE70R0AjAe_"
      }
    },
    {
      "cell_type": "markdown",
      "source": [
        "Funciones \n",
        "if -else\n",
        "elif\n"
      ],
      "metadata": {
        "id": "MlV2lSLojp-u"
      }
    },
    {
      "cell_type": "code",
      "source": [
        "#Sintaxis else if\n",
        "edad = 33\n",
        "if (edad>18):\n",
        "  print(\"Si puede entar al concierto\")\n",
        "elif(edad==18):\n",
        "  print(\"Entar al concierto de ACDC\")\n",
        "else:\n",
        "  print(\"No puede entrar al concienrto\")\n",
        "print(\"Sigue adelante\")\n"
      ],
      "metadata": {
        "colab": {
          "base_uri": "https://localhost:8080/"
        },
        "id": "K5Yc0Y2cjCSo",
        "outputId": "f066528c-d9e5-47ae-a520-bfdf07644a9b"
      },
      "execution_count": null,
      "outputs": [
        {
          "output_type": "stream",
          "name": "stdout",
          "text": [
            "Si puede entar al concierto\n",
            "Sigue adelante\n"
          ]
        }
      ]
    },
    {
      "cell_type": "markdown",
      "source": [
        "###Loops"
      ],
      "metadata": {
        "id": "FDiL--pClEfW"
      }
    },
    {
      "cell_type": "code",
      "source": [
        "#While, condicional que ejecuta el loop mientras cumpla una condición\n",
        "x=11\n",
        "y=1\n",
        "while(y != x):\n",
        "    print(y)\n",
        "    y=y+1"
      ],
      "metadata": {
        "colab": {
          "base_uri": "https://localhost:8080/"
        },
        "id": "edl0d1FglHRn",
        "outputId": "3b50c76d-13e0-4368-ed40-7b38b060e8ff"
      },
      "execution_count": null,
      "outputs": [
        {
          "output_type": "stream",
          "name": "stdout",
          "text": [
            "1\n",
            "2\n",
            "3\n",
            "4\n",
            "5\n",
            "6\n",
            "7\n",
            "8\n",
            "9\n",
            "10\n"
          ]
        }
      ]
    },
    {
      "cell_type": "code",
      "source": [
        "#for, condicional "
      ],
      "metadata": {
        "id": "RNaCEfQEFqg2"
      },
      "execution_count": null,
      "outputs": []
    },
    {
      "cell_type": "markdown",
      "source": [
        "###Funciones"
      ],
      "metadata": {
        "id": "fMTiQ_ZDH10i"
      }
    },
    {
      "cell_type": "markdown",
      "source": [
        "Una función en python permite definir un bloque de código que se puede ejecutar muchas veces dentro de tu programa, sin la necesitad de escribir el programa completa cada vez que se requiera ocupar"
      ],
      "metadata": {
        "id": "pygSEkbjIMbC"
      }
    },
    {
      "cell_type": "markdown",
      "source": [
        "En Python, una definición de función tiene las siguientes características:\n",
        "\n",
        "1. La palabra clave def\n",
        "2. Un nombre de función\n",
        "3. Paréntesis ’()’, y dentro de los paréntesis los parámetros de entrada, \n",
        "4. Dos puntos ’:’\n",
        "5. Algún bloque de código para ejecutar\n",
        "6. Una sentencia de retorno (opcional)"
      ],
      "metadata": {
        "id": "8bpK4P0eIVh6"
      }
    },
    {
      "cell_type": "markdown",
      "source": [
        "###Clases y objetos"
      ],
      "metadata": {
        "id": "s375HMAvJWSh"
      }
    },
    {
      "cell_type": "code",
      "source": [
        "class Person:\n",
        "    pass"
      ],
      "metadata": {
        "id": "yL0jfIO-JhSh"
      },
      "execution_count": null,
      "outputs": []
    },
    {
      "cell_type": "code",
      "source": [
        "jorge =  Person()"
      ],
      "metadata": {
        "id": "NCTgXOjsJvzw"
      },
      "execution_count": null,
      "outputs": []
    },
    {
      "cell_type": "markdown",
      "source": [],
      "metadata": {
        "id": "6Hc5LVGgJsqh"
      }
    },
    {
      "cell_type": "code",
      "source": [
        "import matplotlib.pyplot as plt\n",
        "%matplotlib inline "
      ],
      "metadata": {
        "id": "v5cslmVWQDPH"
      },
      "execution_count": null,
      "outputs": []
    },
    {
      "cell_type": "code",
      "source": [
        "# Create a class Circle\n",
        "\n",
        "class Circle(object):\n",
        "    \n",
        "    # Constructor\n",
        "    def __init__(self, radius=3, color='blue'):\n",
        "        self.radius = radius\n",
        "        self.color = color \n",
        "    \n",
        "    # Method\n",
        "    def add_radius(self, r):\n",
        "        self.radius = self.radius + r\n",
        "        return(self.radius)\n",
        "    \n",
        "    # Method\n",
        "    def drawCircle(self):\n",
        "        plt.gca().add_patch(plt.Circle((0, 0), radius=self.radius, fc=self.color))\n",
        "        plt.axis('scaled')\n",
        "        plt.show()  "
      ],
      "metadata": {
        "id": "BGXeeNt_QIXw"
      },
      "execution_count": null,
      "outputs": []
    },
    {
      "cell_type": "code",
      "source": [
        "# Create an object RedCircle\n",
        "\n",
        "RedCircle = Circle(10, 'red')"
      ],
      "metadata": {
        "id": "hMlDNCuaQLev"
      },
      "execution_count": null,
      "outputs": []
    },
    {
      "cell_type": "code",
      "source": [
        "dir(RedCircle)"
      ],
      "metadata": {
        "colab": {
          "base_uri": "https://localhost:8080/"
        },
        "id": "VWE56aPzQOVn",
        "outputId": "11870fb3-5101-4e3d-96f1-6a814c67b8b0"
      },
      "execution_count": null,
      "outputs": [
        {
          "output_type": "execute_result",
          "data": {
            "text/plain": [
              "['__class__',\n",
              " '__delattr__',\n",
              " '__dict__',\n",
              " '__dir__',\n",
              " '__doc__',\n",
              " '__eq__',\n",
              " '__format__',\n",
              " '__ge__',\n",
              " '__getattribute__',\n",
              " '__gt__',\n",
              " '__hash__',\n",
              " '__init__',\n",
              " '__init_subclass__',\n",
              " '__le__',\n",
              " '__lt__',\n",
              " '__module__',\n",
              " '__ne__',\n",
              " '__new__',\n",
              " '__reduce__',\n",
              " '__reduce_ex__',\n",
              " '__repr__',\n",
              " '__setattr__',\n",
              " '__sizeof__',\n",
              " '__str__',\n",
              " '__subclasshook__',\n",
              " '__weakref__',\n",
              " 'add_radius',\n",
              " 'color',\n",
              " 'drawCircle',\n",
              " 'radius']"
            ]
          },
          "metadata": {},
          "execution_count": 10
        }
      ]
    },
    {
      "cell_type": "code",
      "source": [
        "RedCircle.drawCircle()"
      ],
      "metadata": {
        "colab": {
          "base_uri": "https://localhost:8080/",
          "height": 265
        },
        "id": "582Uj-aPQReQ",
        "outputId": "54697d11-0d97-4925-81e0-e434f70cde4c"
      },
      "execution_count": null,
      "outputs": [
        {
          "output_type": "display_data",
          "data": {
            "text/plain": [
              "<Figure size 432x288 with 1 Axes>"
            ],
            "image/png": "[encoded data removed]"
          },
          "metadata": {
            "needs_background": "light"
          }
        }
      ]
    }
  ]
}