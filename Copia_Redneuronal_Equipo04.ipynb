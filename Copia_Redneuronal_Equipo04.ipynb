{
  "cells": [
    {
      "cell_type": "markdown",
      "metadata": {
        "id": "view-in-github",
        "colab_type": "text"
      },
      "source": [
        "<a href=\"https://colab.research.google.com/github/PosgradoMNA/actividades-de-aprendizaje-BrendaZurazy/blob/main/Copia_Redneuronal_Equipo04.ipynb\" target=\"_parent\"><img src=\"https://colab.research.google.com/assets/colab-badge.svg\" alt=\"Open In Colab\"/></a>"
      ]
    },
    {
      "cell_type": "markdown",
      "metadata": {
        "id": "VFj0sSM06dYa"
      },
      "source": [
        "#**Maestría en Inteligencia Artificial Aplicada**\n",
        "##**Curso: Inteligencia Artificial y Aprendizaje Automático**\n",
        "###Tecnológico de Monterrey\n",
        "###Prof Luis Eduardo Falcón Morales\n",
        "\n",
        "## **Adtividad de la Semana 7**\n",
        "###**Red Neuronal Artificial - Perceptrón Multicapa : Multilayer Perceptrón (MLP)**\n"
      ]
    },
    {
      "cell_type": "markdown",
      "metadata": {
        "id": "Qgrvy0RGB9XI"
      },
      "source": [
        "**Nombres y matrículas de los integrantes del equipo:**\n",
        "\n",
        "*   Alejandro Emmanuel Silva Ortega A01794545\n",
        "*   Jesús Ramseths Echeverría Rivera A01794630\n",
        "*   Marco Antonio Arellano Hernández. A00377571\n",
        "*   Brenda Zurazy Rodriguez Pérez. A01793984\n",
        "*   Eduardo Saborío Sánchez A01794374\n"
      ]
    },
    {
      "cell_type": "markdown",
      "metadata": {
        "id": "FrJ2ahMODVj1"
      },
      "source": [
        "En cada sección deberás incluir todas las líneas de código necesarias para responder a cada uno de los ejercicios."
      ]
    },
    {
      "cell_type": "code",
      "execution_count": null,
      "metadata": {
        "id": "exXsscs-Dh-2"
      },
      "outputs": [],
      "source": [
        "# Incluye aquí todos módulos, librerías y paquetes que requieras.\n",
        "import pandas as pd\n",
        "import seaborn as sns\n",
        "from matplotlib import pyplot as plt\n",
        "from sklearn.model_selection import train_test_split\n",
        "import numpy as np\n",
        "from sklearn.pipeline import Pipeline, make_pipeline\n",
        "from sklearn.compose import ColumnTransformer\n",
        "from sklearn.preprocessing import OneHotEncoder, MinMaxScaler, FunctionTransformer\n",
        "from sklearn.preprocessing import StandardScaler, PowerTransformer\n",
        "from sklearn.dummy import DummyRegressor\n",
        "from sklearn.ensemble import RandomForestRegressor\n",
        "from sklearn.linear_model import LinearRegression\n",
        "from sklearn.neural_network import MLPRegressor\n",
        "from sklearn.model_selection import  cross_validate,  RepeatedKFold\n",
        "from sklearn.metrics import make_scorer\n",
        "from sklearn.impute import SimpleImputer\n",
        "from sklearn.compose import TransformedTargetRegressor\n",
        "from sklearn.model_selection import GridSearchCV, RandomizedSearchCV\n",
        "from sklearn.inspection import permutation_importance\n",
        "from scipy.stats import loguniform\n",
        "# Omitimos los warnings de scikitlearn\n",
        "import warnings\n",
        "warnings.filterwarnings(\"ignore\")"
      ]
    },
    {
      "cell_type": "markdown",
      "metadata": {
        "id": "X25brD-gQdZM"
      },
      "source": [
        "#**Ejercicio-1.** "
      ]
    },
    {
      "cell_type": "code",
      "execution_count": null,
      "metadata": {
        "colab": {
          "base_uri": "https://localhost:8080/"
        },
        "id": "4-zW1LSs7xTm",
        "outputId": "9927e909-8527-47d7-a054-0860868567a6"
      },
      "outputs": [
        {
          "output_type": "stream",
          "name": "stdout",
          "text": [
            "Mounted at /content/drive\n"
          ]
        }
      ],
      "source": [
        "#descomentar las siguientes lineas si se usa colab\n",
        "from google.colab import drive\n",
        "drive.mount('/content/drive')"
      ]
    },
    {
      "cell_type": "code",
      "execution_count": null,
      "metadata": {
        "id": "Jq3wl-o1b7kz"
      },
      "outputs": [],
      "source": [
        "# Local Data\n",
        "data = pd.read_csv(\"/content/drive/MyDrive/MNA/IA/dataset_Facebook.csv\", delimiter=';')"
      ]
    },
    {
      "cell_type": "code",
      "source": [
        "data.info()"
      ],
      "metadata": {
        "colab": {
          "base_uri": "https://localhost:8080/"
        },
        "id": "LyYm2eTbtNJI",
        "outputId": "53a86d9a-3bf6-4654-8873-953886446df2"
      },
      "execution_count": null,
      "outputs": [
        {
          "output_type": "stream",
          "name": "stdout",
          "text": [
            "<class 'pandas.core.frame.DataFrame'>\n",
            "RangeIndex: 500 entries, 0 to 499\n",
            "Data columns (total 19 columns):\n",
            " #   Column                                                               Non-Null Count  Dtype  \n",
            "---  ------                                                               --------------  -----  \n",
            " 0   Page total likes                                                     500 non-null    int64  \n",
            " 1   Type                                                                 500 non-null    object \n",
            " 2   Category                                                             500 non-null    int64  \n",
            " 3   Post Month                                                           500 non-null    int64  \n",
            " 4   Post Weekday                                                         500 non-null    int64  \n",
            " 5   Post Hour                                                            500 non-null    int64  \n",
            " 6   Paid                                                                 499 non-null    float64\n",
            " 7   Lifetime Post Total Reach                                            500 non-null    int64  \n",
            " 8   Lifetime Post Total Impressions                                      500 non-null    int64  \n",
            " 9   Lifetime Engaged Users                                               500 non-null    int64  \n",
            " 10  Lifetime Post Consumers                                              500 non-null    int64  \n",
            " 11  Lifetime Post Consumptions                                           500 non-null    int64  \n",
            " 12  Lifetime Post Impressions by people who have liked your Page         500 non-null    int64  \n",
            " 13  Lifetime Post reach by people who like your Page                     500 non-null    int64  \n",
            " 14  Lifetime People who have liked your Page and engaged with your post  500 non-null    int64  \n",
            " 15  comment                                                              500 non-null    int64  \n",
            " 16  like                                                                 499 non-null    float64\n",
            " 17  share                                                                496 non-null    float64\n",
            " 18  Total Interactions                                                   500 non-null    int64  \n",
            "dtypes: float64(3), int64(15), object(1)\n",
            "memory usage: 74.3+ KB\n"
          ]
        }
      ]
    },
    {
      "cell_type": "code",
      "execution_count": null,
      "metadata": {
        "colab": {
          "base_uri": "https://localhost:8080/",
          "height": 371
        },
        "id": "0ulkqXVGCy97",
        "outputId": "0e384e77-9d48-46ae-f228-114597bf3263"
      },
      "outputs": [
        {
          "output_type": "execute_result",
          "data": {
            "text/plain": [
              "   Page total likes    Type  Category  Post Month  Post Weekday  Post Hour  \\\n",
              "0            139441   Photo         2          12             4          3   \n",
              "1            139441  Status         2          12             3         10   \n",
              "2            139441   Photo         3          12             3          3   \n",
              "3            139441   Photo         2          12             2         10   \n",
              "4            139441   Photo         2          12             2          3   \n",
              "\n",
              "   Paid  Lifetime Post Total Reach  Lifetime Post Total Impressions  \\\n",
              "0   0.0                       2752                             5091   \n",
              "1   0.0                      10460                            19057   \n",
              "2   0.0                       2413                             4373   \n",
              "3   1.0                      50128                            87991   \n",
              "4   0.0                       7244                            13594   \n",
              "\n",
              "   Lifetime Engaged Users  Lifetime Post Consumers  \\\n",
              "0                     178                      109   \n",
              "1                    1457                     1361   \n",
              "2                     177                      113   \n",
              "3                    2211                      790   \n",
              "4                     671                      410   \n",
              "\n",
              "   Lifetime Post Consumptions  \\\n",
              "0                         159   \n",
              "1                        1674   \n",
              "2                         154   \n",
              "3                        1119   \n",
              "4                         580   \n",
              "\n",
              "   Lifetime Post Impressions by people who have liked your Page  \\\n",
              "0                                               3078              \n",
              "1                                              11710              \n",
              "2                                               2812              \n",
              "3                                              61027              \n",
              "4                                               6228              \n",
              "\n",
              "   Lifetime Post reach by people who like your Page  \\\n",
              "0                                              1640   \n",
              "1                                              6112   \n",
              "2                                              1503   \n",
              "3                                             32048   \n",
              "4                                              3200   \n",
              "\n",
              "   Lifetime People who have liked your Page and engaged with your post  \\\n",
              "0                                                119                     \n",
              "1                                               1108                     \n",
              "2                                                132                     \n",
              "3                                               1386                     \n",
              "4                                                396                     \n",
              "\n",
              "   comment    like  share  Total Interactions  \n",
              "0        4    79.0   17.0                 100  \n",
              "1        5   130.0   29.0                 164  \n",
              "2        0    66.0   14.0                  80  \n",
              "3       58  1572.0  147.0                1777  \n",
              "4       19   325.0   49.0                 393  "
            ],
            "text/html": [
              "\n",
              "  <div id=\"df-33eb9843-ab3d-4c4d-88e9-967d14b51090\">\n",
              "    <div class=\"colab-df-container\">\n",
              "      <div>\n",
              "<style scoped>\n",
              "    .dataframe tbody tr th:only-of-type {\n",
              "        vertical-align: middle;\n",
              "    }\n",
              "\n",
              "    .dataframe tbody tr th {\n",
              "        vertical-align: top;\n",
              "    }\n",
              "\n",
              "    .dataframe thead th {\n",
              "        text-align: right;\n",
              "    }\n",
              "</style>\n",
              "<table border=\"1\" class=\"dataframe\">\n",
              "  <thead>\n",
              "    <tr style=\"text-align: right;\">\n",
              "      <th></th>\n",
              "      <th>Page total likes</th>\n",
              "      <th>Type</th>\n",
              "      <th>Category</th>\n",
              "      <th>Post Month</th>\n",
              "      <th>Post Weekday</th>\n",
              "      <th>Post Hour</th>\n",
              "      <th>Paid</th>\n",
              "      <th>Lifetime Post Total Reach</th>\n",
              "      <th>Lifetime Post Total Impressions</th>\n",
              "      <th>Lifetime Engaged Users</th>\n",
              "      <th>Lifetime Post Consumers</th>\n",
              "      <th>Lifetime Post Consumptions</th>\n",
              "      <th>Lifetime Post Impressions by people who have liked your Page</th>\n",
              "      <th>Lifetime Post reach by people who like your Page</th>\n",
              "      <th>Lifetime People who have liked your Page and engaged with your post</th>\n",
              "      <th>comment</th>\n",
              "      <th>like</th>\n",
              "      <th>share</th>\n",
              "      <th>Total Interactions</th>\n",
              "    </tr>\n",
              "  </thead>\n",
              "  <tbody>\n",
              "    <tr>\n",
              "      <th>0</th>\n",
              "      <td>139441</td>\n",
              "      <td>Photo</td>\n",
              "      <td>2</td>\n",
              "      <td>12</td>\n",
              "      <td>4</td>\n",
              "      <td>3</td>\n",
              "      <td>0.0</td>\n",
              "      <td>2752</td>\n",
              "      <td>5091</td>\n",
              "      <td>178</td>\n",
              "      <td>109</td>\n",
              "      <td>159</td>\n",
              "      <td>3078</td>\n",
              "      <td>1640</td>\n",
              "      <td>119</td>\n",
              "      <td>4</td>\n",
              "      <td>79.0</td>\n",
              "      <td>17.0</td>\n",
              "      <td>100</td>\n",
              "    </tr>\n",
              "    <tr>\n",
              "      <th>1</th>\n",
              "      <td>139441</td>\n",
              "      <td>Status</td>\n",
              "      <td>2</td>\n",
              "      <td>12</td>\n",
              "      <td>3</td>\n",
              "      <td>10</td>\n",
              "      <td>0.0</td>\n",
              "      <td>10460</td>\n",
              "      <td>19057</td>\n",
              "      <td>1457</td>\n",
              "      <td>1361</td>\n",
              "      <td>1674</td>\n",
              "      <td>11710</td>\n",
              "      <td>6112</td>\n",
              "      <td>1108</td>\n",
              "      <td>5</td>\n",
              "      <td>130.0</td>\n",
              "      <td>29.0</td>\n",
              "      <td>164</td>\n",
              "    </tr>\n",
              "    <tr>\n",
              "      <th>2</th>\n",
              "      <td>139441</td>\n",
              "      <td>Photo</td>\n",
              "      <td>3</td>\n",
              "      <td>12</td>\n",
              "      <td>3</td>\n",
              "      <td>3</td>\n",
              "      <td>0.0</td>\n",
              "      <td>2413</td>\n",
              "      <td>4373</td>\n",
              "      <td>177</td>\n",
              "      <td>113</td>\n",
              "      <td>154</td>\n",
              "      <td>2812</td>\n",
              "      <td>1503</td>\n",
              "      <td>132</td>\n",
              "      <td>0</td>\n",
              "      <td>66.0</td>\n",
              "      <td>14.0</td>\n",
              "      <td>80</td>\n",
              "    </tr>\n",
              "    <tr>\n",
              "      <th>3</th>\n",
              "      <td>139441</td>\n",
              "      <td>Photo</td>\n",
              "      <td>2</td>\n",
              "      <td>12</td>\n",
              "      <td>2</td>\n",
              "      <td>10</td>\n",
              "      <td>1.0</td>\n",
              "      <td>50128</td>\n",
              "      <td>87991</td>\n",
              "      <td>2211</td>\n",
              "      <td>790</td>\n",
              "      <td>1119</td>\n",
              "      <td>61027</td>\n",
              "      <td>32048</td>\n",
              "      <td>1386</td>\n",
              "      <td>58</td>\n",
              "      <td>1572.0</td>\n",
              "      <td>147.0</td>\n",
              "      <td>1777</td>\n",
              "    </tr>\n",
              "    <tr>\n",
              "      <th>4</th>\n",
              "      <td>139441</td>\n",
              "      <td>Photo</td>\n",
              "      <td>2</td>\n",
              "      <td>12</td>\n",
              "      <td>2</td>\n",
              "      <td>3</td>\n",
              "      <td>0.0</td>\n",
              "      <td>7244</td>\n",
              "      <td>13594</td>\n",
              "      <td>671</td>\n",
              "      <td>410</td>\n",
              "      <td>580</td>\n",
              "      <td>6228</td>\n",
              "      <td>3200</td>\n",
              "      <td>396</td>\n",
              "      <td>19</td>\n",
              "      <td>325.0</td>\n",
              "      <td>49.0</td>\n",
              "      <td>393</td>\n",
              "    </tr>\n",
              "  </tbody>\n",
              "</table>\n",
              "</div>\n",
              "      <button class=\"colab-df-convert\" onclick=\"convertToInteractive('df-33eb9843-ab3d-4c4d-88e9-967d14b51090')\"\n",
              "              title=\"Convert this dataframe to an interactive table.\"\n",
              "              style=\"display:none;\">\n",
              "        \n",
              "  <svg xmlns=\"http://www.w3.org/2000/svg\" height=\"24px\"viewBox=\"0 0 24 24\"\n",
              "       width=\"24px\">\n",
              "    <path d=\"M0 0h24v24H0V0z\" fill=\"none\"/>\n",
              "    <path d=\"M18.56 5.44l.94 2.06.94-2.06 2.06-.94-2.06-.94-.94-2.06-.94 2.06-2.06.94zm-11 1L8.5 8.5l.94-2.06 2.06-.94-2.06-.94L8.5 2.5l-.94 2.06-2.06.94zm10 10l.94 2.06.94-2.06 2.06-.94-2.06-.94-.94-2.06-.94 2.06-2.06.94z\"/><path d=\"M17.41 7.96l-1.37-1.37c-.4-.4-.92-.59-1.43-.59-.52 0-1.04.2-1.43.59L10.3 9.45l-7.72 7.72c-.78.78-.78 2.05 0 2.83L4 21.41c.39.39.9.59 1.41.59.51 0 1.02-.2 1.41-.59l7.78-7.78 2.81-2.81c.8-.78.8-2.07 0-2.86zM5.41 20L4 18.59l7.72-7.72 1.47 1.35L5.41 20z\"/>\n",
              "  </svg>\n",
              "      </button>\n",
              "      \n",
              "  <style>\n",
              "    .colab-df-container {\n",
              "      display:flex;\n",
              "      flex-wrap:wrap;\n",
              "      gap: 12px;\n",
              "    }\n",
              "\n",
              "    .colab-df-convert {\n",
              "      background-color: #E8F0FE;\n",
              "      border: none;\n",
              "      border-radius: 50%;\n",
              "      cursor: pointer;\n",
              "      display: none;\n",
              "      fill: #1967D2;\n",
              "      height: 32px;\n",
              "      padding: 0 0 0 0;\n",
              "      width: 32px;\n",
              "    }\n",
              "\n",
              "    .colab-df-convert:hover {\n",
              "      background-color: #E2EBFA;\n",
              "      box-shadow: 0px 1px 2px rgba(60, 64, 67, 0.3), 0px 1px 3px 1px rgba(60, 64, 67, 0.15);\n",
              "      fill: #174EA6;\n",
              "    }\n",
              "\n",
              "    [theme=dark] .colab-df-convert {\n",
              "      background-color: #3B4455;\n",
              "      fill: #D2E3FC;\n",
              "    }\n",
              "\n",
              "    [theme=dark] .colab-df-convert:hover {\n",
              "      background-color: #434B5C;\n",
              "      box-shadow: 0px 1px 3px 1px rgba(0, 0, 0, 0.15);\n",
              "      filter: drop-shadow(0px 1px 2px rgba(0, 0, 0, 0.3));\n",
              "      fill: #FFFFFF;\n",
              "    }\n",
              "  </style>\n",
              "\n",
              "      <script>\n",
              "        const buttonEl =\n",
              "          document.querySelector('#df-33eb9843-ab3d-4c4d-88e9-967d14b51090 button.colab-df-convert');\n",
              "        buttonEl.style.display =\n",
              "          google.colab.kernel.accessAllowed ? 'block' : 'none';\n",
              "\n",
              "        async function convertToInteractive(key) {\n",
              "          const element = document.querySelector('#df-33eb9843-ab3d-4c4d-88e9-967d14b51090');\n",
              "          const dataTable =\n",
              "            await google.colab.kernel.invokeFunction('convertToInteractive',\n",
              "                                                     [key], {});\n",
              "          if (!dataTable) return;\n",
              "\n",
              "          const docLinkHtml = 'Like what you see? Visit the ' +\n",
              "            '<a target=\"_blank\" href=https://colab.research.google.com/notebooks/data_table.ipynb>data table notebook</a>'\n",
              "            + ' to learn more about interactive tables.';\n",
              "          element.innerHTML = '';\n",
              "          dataTable['output_type'] = 'display_data';\n",
              "          await google.colab.output.renderOutput(dataTable, element);\n",
              "          const docLink = document.createElement('div');\n",
              "          docLink.innerHTML = docLinkHtml;\n",
              "          element.appendChild(docLink);\n",
              "        }\n",
              "      </script>\n",
              "    </div>\n",
              "  </div>\n",
              "  "
            ]
          },
          "metadata": {},
          "execution_count": 4
        }
      ],
      "source": [
        "#data = pd.read_csv(\"/content/drive/MyDrive/MNA/IA/dataset_Facebook.csv\", delimiter=';')\n",
        "data.head()"
      ]
    },
    {
      "cell_type": "markdown",
      "source": [
        "**Renombra dicha variable como “LPE” y como variables de entrada selecciona las 7 variables que indican los autores del artículo:**\n",
        " Moro, S., Rita, P., & Vala, B. (2016). Predicting social media performance metrics and evaluation of the impact on brand building: A data mining approach. Journal of Business Research, 69(9), 3341–3351. https://0-doi-org.biblioteca-ils.tec.mx/10.1016/j.jbusres.2016.02.010."
      ],
      "metadata": {
        "id": "VtWZs5TWPJIh"
      }
    },
    {
      "cell_type": "code",
      "execution_count": null,
      "metadata": {
        "id": "8Ykz14i-8vAg"
      },
      "outputs": [],
      "source": [
        "data.rename(columns={'Lifetime People who have liked your Page and engaged with your post':'LPE'}, inplace = True)"
      ]
    },
    {
      "cell_type": "code",
      "execution_count": null,
      "metadata": {
        "colab": {
          "base_uri": "https://localhost:8080/",
          "height": 319
        },
        "id": "j4NeDKgi-dTt",
        "outputId": "56acf60b-936c-40fb-d196-8714b251a7dd"
      },
      "outputs": [
        {
          "output_type": "execute_result",
          "data": {
            "text/plain": [
              "   Page total likes    Type  Category  Post Month  Post Weekday  Post Hour  \\\n",
              "0            139441   Photo         2          12             4          3   \n",
              "1            139441  Status         2          12             3         10   \n",
              "2            139441   Photo         3          12             3          3   \n",
              "3            139441   Photo         2          12             2         10   \n",
              "4            139441   Photo         2          12             2          3   \n",
              "\n",
              "   Paid  Lifetime Post Total Reach  Lifetime Post Total Impressions  \\\n",
              "0   0.0                       2752                             5091   \n",
              "1   0.0                      10460                            19057   \n",
              "2   0.0                       2413                             4373   \n",
              "3   1.0                      50128                            87991   \n",
              "4   0.0                       7244                            13594   \n",
              "\n",
              "   Lifetime Engaged Users  Lifetime Post Consumers  \\\n",
              "0                     178                      109   \n",
              "1                    1457                     1361   \n",
              "2                     177                      113   \n",
              "3                    2211                      790   \n",
              "4                     671                      410   \n",
              "\n",
              "   Lifetime Post Consumptions  \\\n",
              "0                         159   \n",
              "1                        1674   \n",
              "2                         154   \n",
              "3                        1119   \n",
              "4                         580   \n",
              "\n",
              "   Lifetime Post Impressions by people who have liked your Page  \\\n",
              "0                                               3078              \n",
              "1                                              11710              \n",
              "2                                               2812              \n",
              "3                                              61027              \n",
              "4                                               6228              \n",
              "\n",
              "   Lifetime Post reach by people who like your Page   LPE  comment    like  \\\n",
              "0                                              1640   119        4    79.0   \n",
              "1                                              6112  1108        5   130.0   \n",
              "2                                              1503   132        0    66.0   \n",
              "3                                             32048  1386       58  1572.0   \n",
              "4                                              3200   396       19   325.0   \n",
              "\n",
              "   share  Total Interactions  \n",
              "0   17.0                 100  \n",
              "1   29.0                 164  \n",
              "2   14.0                  80  \n",
              "3  147.0                1777  \n",
              "4   49.0                 393  "
            ],
            "text/html": [
              "\n",
              "  <div id=\"df-1615dea0-5376-4497-8e77-51ed3456cfb8\">\n",
              "    <div class=\"colab-df-container\">\n",
              "      <div>\n",
              "<style scoped>\n",
              "    .dataframe tbody tr th:only-of-type {\n",
              "        vertical-align: middle;\n",
              "    }\n",
              "\n",
              "    .dataframe tbody tr th {\n",
              "        vertical-align: top;\n",
              "    }\n",
              "\n",
              "    .dataframe thead th {\n",
              "        text-align: right;\n",
              "    }\n",
              "</style>\n",
              "<table border=\"1\" class=\"dataframe\">\n",
              "  <thead>\n",
              "    <tr style=\"text-align: right;\">\n",
              "      <th></th>\n",
              "      <th>Page total likes</th>\n",
              "      <th>Type</th>\n",
              "      <th>Category</th>\n",
              "      <th>Post Month</th>\n",
              "      <th>Post Weekday</th>\n",
              "      <th>Post Hour</th>\n",
              "      <th>Paid</th>\n",
              "      <th>Lifetime Post Total Reach</th>\n",
              "      <th>Lifetime Post Total Impressions</th>\n",
              "      <th>Lifetime Engaged Users</th>\n",
              "      <th>Lifetime Post Consumers</th>\n",
              "      <th>Lifetime Post Consumptions</th>\n",
              "      <th>Lifetime Post Impressions by people who have liked your Page</th>\n",
              "      <th>Lifetime Post reach by people who like your Page</th>\n",
              "      <th>LPE</th>\n",
              "      <th>comment</th>\n",
              "      <th>like</th>\n",
              "      <th>share</th>\n",
              "      <th>Total Interactions</th>\n",
              "    </tr>\n",
              "  </thead>\n",
              "  <tbody>\n",
              "    <tr>\n",
              "      <th>0</th>\n",
              "      <td>139441</td>\n",
              "      <td>Photo</td>\n",
              "      <td>2</td>\n",
              "      <td>12</td>\n",
              "      <td>4</td>\n",
              "      <td>3</td>\n",
              "      <td>0.0</td>\n",
              "      <td>2752</td>\n",
              "      <td>5091</td>\n",
              "      <td>178</td>\n",
              "      <td>109</td>\n",
              "      <td>159</td>\n",
              "      <td>3078</td>\n",
              "      <td>1640</td>\n",
              "      <td>119</td>\n",
              "      <td>4</td>\n",
              "      <td>79.0</td>\n",
              "      <td>17.0</td>\n",
              "      <td>100</td>\n",
              "    </tr>\n",
              "    <tr>\n",
              "      <th>1</th>\n",
              "      <td>139441</td>\n",
              "      <td>Status</td>\n",
              "      <td>2</td>\n",
              "      <td>12</td>\n",
              "      <td>3</td>\n",
              "      <td>10</td>\n",
              "      <td>0.0</td>\n",
              "      <td>10460</td>\n",
              "      <td>19057</td>\n",
              "      <td>1457</td>\n",
              "      <td>1361</td>\n",
              "      <td>1674</td>\n",
              "      <td>11710</td>\n",
              "      <td>6112</td>\n",
              "      <td>1108</td>\n",
              "      <td>5</td>\n",
              "      <td>130.0</td>\n",
              "      <td>29.0</td>\n",
              "      <td>164</td>\n",
              "    </tr>\n",
              "    <tr>\n",
              "      <th>2</th>\n",
              "      <td>139441</td>\n",
              "      <td>Photo</td>\n",
              "      <td>3</td>\n",
              "      <td>12</td>\n",
              "      <td>3</td>\n",
              "      <td>3</td>\n",
              "      <td>0.0</td>\n",
              "      <td>2413</td>\n",
              "      <td>4373</td>\n",
              "      <td>177</td>\n",
              "      <td>113</td>\n",
              "      <td>154</td>\n",
              "      <td>2812</td>\n",
              "      <td>1503</td>\n",
              "      <td>132</td>\n",
              "      <td>0</td>\n",
              "      <td>66.0</td>\n",
              "      <td>14.0</td>\n",
              "      <td>80</td>\n",
              "    </tr>\n",
              "    <tr>\n",
              "      <th>3</th>\n",
              "      <td>139441</td>\n",
              "      <td>Photo</td>\n",
              "      <td>2</td>\n",
              "      <td>12</td>\n",
              "      <td>2</td>\n",
              "      <td>10</td>\n",
              "      <td>1.0</td>\n",
              "      <td>50128</td>\n",
              "      <td>87991</td>\n",
              "      <td>2211</td>\n",
              "      <td>790</td>\n",
              "      <td>1119</td>\n",
              "      <td>61027</td>\n",
              "      <td>32048</td>\n",
              "      <td>1386</td>\n",
              "      <td>58</td>\n",
              "      <td>1572.0</td>\n",
              "      <td>147.0</td>\n",
              "      <td>1777</td>\n",
              "    </tr>\n",
              "    <tr>\n",
              "      <th>4</th>\n",
              "      <td>139441</td>\n",
              "      <td>Photo</td>\n",
              "      <td>2</td>\n",
              "      <td>12</td>\n",
              "      <td>2</td>\n",
              "      <td>3</td>\n",
              "      <td>0.0</td>\n",
              "      <td>7244</td>\n",
              "      <td>13594</td>\n",
              "      <td>671</td>\n",
              "      <td>410</td>\n",
              "      <td>580</td>\n",
              "      <td>6228</td>\n",
              "      <td>3200</td>\n",
              "      <td>396</td>\n",
              "      <td>19</td>\n",
              "      <td>325.0</td>\n",
              "      <td>49.0</td>\n",
              "      <td>393</td>\n",
              "    </tr>\n",
              "  </tbody>\n",
              "</table>\n",
              "</div>\n",
              "      <button class=\"colab-df-convert\" onclick=\"convertToInteractive('df-1615dea0-5376-4497-8e77-51ed3456cfb8')\"\n",
              "              title=\"Convert this dataframe to an interactive table.\"\n",
              "              style=\"display:none;\">\n",
              "        \n",
              "  <svg xmlns=\"http://www.w3.org/2000/svg\" height=\"24px\"viewBox=\"0 0 24 24\"\n",
              "       width=\"24px\">\n",
              "    <path d=\"M0 0h24v24H0V0z\" fill=\"none\"/>\n",
              "    <path d=\"M18.56 5.44l.94 2.06.94-2.06 2.06-.94-2.06-.94-.94-2.06-.94 2.06-2.06.94zm-11 1L8.5 8.5l.94-2.06 2.06-.94-2.06-.94L8.5 2.5l-.94 2.06-2.06.94zm10 10l.94 2.06.94-2.06 2.06-.94-2.06-.94-.94-2.06-.94 2.06-2.06.94z\"/><path d=\"M17.41 7.96l-1.37-1.37c-.4-.4-.92-.59-1.43-.59-.52 0-1.04.2-1.43.59L10.3 9.45l-7.72 7.72c-.78.78-.78 2.05 0 2.83L4 21.41c.39.39.9.59 1.41.59.51 0 1.02-.2 1.41-.59l7.78-7.78 2.81-2.81c.8-.78.8-2.07 0-2.86zM5.41 20L4 18.59l7.72-7.72 1.47 1.35L5.41 20z\"/>\n",
              "  </svg>\n",
              "      </button>\n",
              "      \n",
              "  <style>\n",
              "    .colab-df-container {\n",
              "      display:flex;\n",
              "      flex-wrap:wrap;\n",
              "      gap: 12px;\n",
              "    }\n",
              "\n",
              "    .colab-df-convert {\n",
              "      background-color: #E8F0FE;\n",
              "      border: none;\n",
              "      border-radius: 50%;\n",
              "      cursor: pointer;\n",
              "      display: none;\n",
              "      fill: #1967D2;\n",
              "      height: 32px;\n",
              "      padding: 0 0 0 0;\n",
              "      width: 32px;\n",
              "    }\n",
              "\n",
              "    .colab-df-convert:hover {\n",
              "      background-color: #E2EBFA;\n",
              "      box-shadow: 0px 1px 2px rgba(60, 64, 67, 0.3), 0px 1px 3px 1px rgba(60, 64, 67, 0.15);\n",
              "      fill: #174EA6;\n",
              "    }\n",
              "\n",
              "    [theme=dark] .colab-df-convert {\n",
              "      background-color: #3B4455;\n",
              "      fill: #D2E3FC;\n",
              "    }\n",
              "\n",
              "    [theme=dark] .colab-df-convert:hover {\n",
              "      background-color: #434B5C;\n",
              "      box-shadow: 0px 1px 3px 1px rgba(0, 0, 0, 0.15);\n",
              "      filter: drop-shadow(0px 1px 2px rgba(0, 0, 0, 0.3));\n",
              "      fill: #FFFFFF;\n",
              "    }\n",
              "  </style>\n",
              "\n",
              "      <script>\n",
              "        const buttonEl =\n",
              "          document.querySelector('#df-1615dea0-5376-4497-8e77-51ed3456cfb8 button.colab-df-convert');\n",
              "        buttonEl.style.display =\n",
              "          google.colab.kernel.accessAllowed ? 'block' : 'none';\n",
              "\n",
              "        async function convertToInteractive(key) {\n",
              "          const element = document.querySelector('#df-1615dea0-5376-4497-8e77-51ed3456cfb8');\n",
              "          const dataTable =\n",
              "            await google.colab.kernel.invokeFunction('convertToInteractive',\n",
              "                                                     [key], {});\n",
              "          if (!dataTable) return;\n",
              "\n",
              "          const docLinkHtml = 'Like what you see? Visit the ' +\n",
              "            '<a target=\"_blank\" href=https://colab.research.google.com/notebooks/data_table.ipynb>data table notebook</a>'\n",
              "            + ' to learn more about interactive tables.';\n",
              "          element.innerHTML = '';\n",
              "          dataTable['output_type'] = 'display_data';\n",
              "          await google.colab.output.renderOutput(dataTable, element);\n",
              "          const docLink = document.createElement('div');\n",
              "          docLink.innerHTML = docLinkHtml;\n",
              "          element.appendChild(docLink);\n",
              "        }\n",
              "      </script>\n",
              "    </div>\n",
              "  </div>\n",
              "  "
            ]
          },
          "metadata": {},
          "execution_count": 6
        }
      ],
      "source": [
        "data.head()"
      ]
    },
    {
      "cell_type": "markdown",
      "source": [
        "Conforme al algoritmo de minería de datos que cita el artículo de  Moro, S., Rita, P., & Vala, B las siguientes 7 variables son las que se utilizaron para obtener los resultado publicados:"
      ],
      "metadata": {
        "id": "Sv3gUVZjRegy"
      }
    },
    {
      "cell_type": "code",
      "execution_count": null,
      "metadata": {
        "colab": {
          "base_uri": "https://localhost:8080/",
          "height": 206
        },
        "id": "l8WMmy1m2lj6",
        "outputId": "7cd925b5-faa3-45c7-c7b3-55255158b630"
      },
      "outputs": [
        {
          "output_type": "execute_result",
          "data": {
            "text/plain": [
              "   Category  Page total likes    Type  Post Month  Post Hour  Post Weekday  \\\n",
              "0         2            139441   Photo          12          3             4   \n",
              "1         2            139441  Status          12         10             3   \n",
              "2         3            139441   Photo          12          3             3   \n",
              "3         2            139441   Photo          12         10             2   \n",
              "4         2            139441   Photo          12          3             2   \n",
              "\n",
              "   Paid   LPE  \n",
              "0   0.0   119  \n",
              "1   0.0  1108  \n",
              "2   0.0   132  \n",
              "3   1.0  1386  \n",
              "4   0.0   396  "
            ],
            "text/html": [
              "\n",
              "  <div id=\"df-48c9c68b-68dd-4c92-ad8c-b025e773d214\">\n",
              "    <div class=\"colab-df-container\">\n",
              "      <div>\n",
              "<style scoped>\n",
              "    .dataframe tbody tr th:only-of-type {\n",
              "        vertical-align: middle;\n",
              "    }\n",
              "\n",
              "    .dataframe tbody tr th {\n",
              "        vertical-align: top;\n",
              "    }\n",
              "\n",
              "    .dataframe thead th {\n",
              "        text-align: right;\n",
              "    }\n",
              "</style>\n",
              "<table border=\"1\" class=\"dataframe\">\n",
              "  <thead>\n",
              "    <tr style=\"text-align: right;\">\n",
              "      <th></th>\n",
              "      <th>Category</th>\n",
              "      <th>Page total likes</th>\n",
              "      <th>Type</th>\n",
              "      <th>Post Month</th>\n",
              "      <th>Post Hour</th>\n",
              "      <th>Post Weekday</th>\n",
              "      <th>Paid</th>\n",
              "      <th>LPE</th>\n",
              "    </tr>\n",
              "  </thead>\n",
              "  <tbody>\n",
              "    <tr>\n",
              "      <th>0</th>\n",
              "      <td>2</td>\n",
              "      <td>139441</td>\n",
              "      <td>Photo</td>\n",
              "      <td>12</td>\n",
              "      <td>3</td>\n",
              "      <td>4</td>\n",
              "      <td>0.0</td>\n",
              "      <td>119</td>\n",
              "    </tr>\n",
              "    <tr>\n",
              "      <th>1</th>\n",
              "      <td>2</td>\n",
              "      <td>139441</td>\n",
              "      <td>Status</td>\n",
              "      <td>12</td>\n",
              "      <td>10</td>\n",
              "      <td>3</td>\n",
              "      <td>0.0</td>\n",
              "      <td>1108</td>\n",
              "    </tr>\n",
              "    <tr>\n",
              "      <th>2</th>\n",
              "      <td>3</td>\n",
              "      <td>139441</td>\n",
              "      <td>Photo</td>\n",
              "      <td>12</td>\n",
              "      <td>3</td>\n",
              "      <td>3</td>\n",
              "      <td>0.0</td>\n",
              "      <td>132</td>\n",
              "    </tr>\n",
              "    <tr>\n",
              "      <th>3</th>\n",
              "      <td>2</td>\n",
              "      <td>139441</td>\n",
              "      <td>Photo</td>\n",
              "      <td>12</td>\n",
              "      <td>10</td>\n",
              "      <td>2</td>\n",
              "      <td>1.0</td>\n",
              "      <td>1386</td>\n",
              "    </tr>\n",
              "    <tr>\n",
              "      <th>4</th>\n",
              "      <td>2</td>\n",
              "      <td>139441</td>\n",
              "      <td>Photo</td>\n",
              "      <td>12</td>\n",
              "      <td>3</td>\n",
              "      <td>2</td>\n",
              "      <td>0.0</td>\n",
              "      <td>396</td>\n",
              "    </tr>\n",
              "  </tbody>\n",
              "</table>\n",
              "</div>\n",
              "      <button class=\"colab-df-convert\" onclick=\"convertToInteractive('df-48c9c68b-68dd-4c92-ad8c-b025e773d214')\"\n",
              "              title=\"Convert this dataframe to an interactive table.\"\n",
              "              style=\"display:none;\">\n",
              "        \n",
              "  <svg xmlns=\"http://www.w3.org/2000/svg\" height=\"24px\"viewBox=\"0 0 24 24\"\n",
              "       width=\"24px\">\n",
              "    <path d=\"M0 0h24v24H0V0z\" fill=\"none\"/>\n",
              "    <path d=\"M18.56 5.44l.94 2.06.94-2.06 2.06-.94-2.06-.94-.94-2.06-.94 2.06-2.06.94zm-11 1L8.5 8.5l.94-2.06 2.06-.94-2.06-.94L8.5 2.5l-.94 2.06-2.06.94zm10 10l.94 2.06.94-2.06 2.06-.94-2.06-.94-.94-2.06-.94 2.06-2.06.94z\"/><path d=\"M17.41 7.96l-1.37-1.37c-.4-.4-.92-.59-1.43-.59-.52 0-1.04.2-1.43.59L10.3 9.45l-7.72 7.72c-.78.78-.78 2.05 0 2.83L4 21.41c.39.39.9.59 1.41.59.51 0 1.02-.2 1.41-.59l7.78-7.78 2.81-2.81c.8-.78.8-2.07 0-2.86zM5.41 20L4 18.59l7.72-7.72 1.47 1.35L5.41 20z\"/>\n",
              "  </svg>\n",
              "      </button>\n",
              "      \n",
              "  <style>\n",
              "    .colab-df-container {\n",
              "      display:flex;\n",
              "      flex-wrap:wrap;\n",
              "      gap: 12px;\n",
              "    }\n",
              "\n",
              "    .colab-df-convert {\n",
              "      background-color: #E8F0FE;\n",
              "      border: none;\n",
              "      border-radius: 50%;\n",
              "      cursor: pointer;\n",
              "      display: none;\n",
              "      fill: #1967D2;\n",
              "      height: 32px;\n",
              "      padding: 0 0 0 0;\n",
              "      width: 32px;\n",
              "    }\n",
              "\n",
              "    .colab-df-convert:hover {\n",
              "      background-color: #E2EBFA;\n",
              "      box-shadow: 0px 1px 2px rgba(60, 64, 67, 0.3), 0px 1px 3px 1px rgba(60, 64, 67, 0.15);\n",
              "      fill: #174EA6;\n",
              "    }\n",
              "\n",
              "    [theme=dark] .colab-df-convert {\n",
              "      background-color: #3B4455;\n",
              "      fill: #D2E3FC;\n",
              "    }\n",
              "\n",
              "    [theme=dark] .colab-df-convert:hover {\n",
              "      background-color: #434B5C;\n",
              "      box-shadow: 0px 1px 3px 1px rgba(0, 0, 0, 0.15);\n",
              "      filter: drop-shadow(0px 1px 2px rgba(0, 0, 0, 0.3));\n",
              "      fill: #FFFFFF;\n",
              "    }\n",
              "  </style>\n",
              "\n",
              "      <script>\n",
              "        const buttonEl =\n",
              "          document.querySelector('#df-48c9c68b-68dd-4c92-ad8c-b025e773d214 button.colab-df-convert');\n",
              "        buttonEl.style.display =\n",
              "          google.colab.kernel.accessAllowed ? 'block' : 'none';\n",
              "\n",
              "        async function convertToInteractive(key) {\n",
              "          const element = document.querySelector('#df-48c9c68b-68dd-4c92-ad8c-b025e773d214');\n",
              "          const dataTable =\n",
              "            await google.colab.kernel.invokeFunction('convertToInteractive',\n",
              "                                                     [key], {});\n",
              "          if (!dataTable) return;\n",
              "\n",
              "          const docLinkHtml = 'Like what you see? Visit the ' +\n",
              "            '<a target=\"_blank\" href=https://colab.research.google.com/notebooks/data_table.ipynb>data table notebook</a>'\n",
              "            + ' to learn more about interactive tables.';\n",
              "          element.innerHTML = '';\n",
              "          dataTable['output_type'] = 'display_data';\n",
              "          await google.colab.output.renderOutput(dataTable, element);\n",
              "          const docLink = document.createElement('div');\n",
              "          docLink.innerHTML = docLinkHtml;\n",
              "          element.appendChild(docLink);\n",
              "        }\n",
              "      </script>\n",
              "    </div>\n",
              "  </div>\n",
              "  "
            ]
          },
          "metadata": {},
          "execution_count": 7
        }
      ],
      "source": [
        "data = data[['Category', 'Page total likes', 'Type', 'Post Month', 'Post Hour', 'Post Weekday', 'Paid', 'LPE']].copy()\n",
        "data.head()"
      ]
    },
    {
      "cell_type": "code",
      "execution_count": null,
      "metadata": {
        "colab": {
          "base_uri": "https://localhost:8080/"
        },
        "id": "_GwKe9fu7Vcn",
        "outputId": "cf099885-363b-4cd0-909e-f22d765ff15a"
      },
      "outputs": [
        {
          "output_type": "stream",
          "name": "stdout",
          "text": [
            "<class 'pandas.core.frame.DataFrame'>\n",
            "RangeIndex: 500 entries, 0 to 499\n",
            "Data columns (total 8 columns):\n",
            " #   Column            Non-Null Count  Dtype  \n",
            "---  ------            --------------  -----  \n",
            " 0   Category          500 non-null    int64  \n",
            " 1   Page total likes  500 non-null    int64  \n",
            " 2   Type              500 non-null    object \n",
            " 3   Post Month        500 non-null    int64  \n",
            " 4   Post Hour         500 non-null    int64  \n",
            " 5   Post Weekday      500 non-null    int64  \n",
            " 6   Paid              499 non-null    float64\n",
            " 7   LPE               500 non-null    int64  \n",
            "dtypes: float64(1), int64(6), object(1)\n",
            "memory usage: 31.4+ KB\n"
          ]
        }
      ],
      "source": [
        "#Resumen de la base que utilizaremos en la tarea\n",
        "data.info()"
      ]
    },
    {
      "cell_type": "code",
      "execution_count": null,
      "metadata": {
        "colab": {
          "base_uri": "https://localhost:8080/"
        },
        "id": "23DE1vd47gx2",
        "outputId": "5583db5f-c734-4382-be75-051da68d9b9d"
      },
      "outputs": [
        {
          "output_type": "execute_result",
          "data": {
            "text/plain": [
              "Category            0.0\n",
              "Page total likes    0.0\n",
              "Type                0.0\n",
              "Post Month          0.0\n",
              "Post Hour           0.0\n",
              "Post Weekday        0.0\n",
              "Paid                0.2\n",
              "LPE                 0.0\n",
              "dtype: float64"
            ]
          },
          "metadata": {},
          "execution_count": 9
        }
      ],
      "source": [
        "#Revisando las variables que tienen valores null\n",
        "data.isnull().mean()*100"
      ]
    },
    {
      "cell_type": "markdown",
      "metadata": {
        "id": "cf34GD_l74JP"
      },
      "source": [
        "El analisis de datos nulos arroja que existe 1 variable con valores nulos, esta es 'Paid'. \n",
        "\n",
        "Para evitar pérdida de información se imputara esta variable usando SimpleImputer con la estrategia *most_frequent*"
      ]
    },
    {
      "cell_type": "code",
      "execution_count": null,
      "metadata": {
        "colab": {
          "base_uri": "https://localhost:8080/",
          "height": 175
        },
        "id": "RBVSFwK4C6g9",
        "outputId": "7e2bdb18-71b8-42d9-ed00-2cc4b946ff3c"
      },
      "outputs": [
        {
          "output_type": "execute_result",
          "data": {
            "text/plain": [
              "         Type\n",
              "count     500\n",
              "unique      4\n",
              "top     Photo\n",
              "freq      426"
            ],
            "text/html": [
              "\n",
              "  <div id=\"df-12a4941e-905a-466a-8134-00dd79e32958\">\n",
              "    <div class=\"colab-df-container\">\n",
              "      <div>\n",
              "<style scoped>\n",
              "    .dataframe tbody tr th:only-of-type {\n",
              "        vertical-align: middle;\n",
              "    }\n",
              "\n",
              "    .dataframe tbody tr th {\n",
              "        vertical-align: top;\n",
              "    }\n",
              "\n",
              "    .dataframe thead th {\n",
              "        text-align: right;\n",
              "    }\n",
              "</style>\n",
              "<table border=\"1\" class=\"dataframe\">\n",
              "  <thead>\n",
              "    <tr style=\"text-align: right;\">\n",
              "      <th></th>\n",
              "      <th>Type</th>\n",
              "    </tr>\n",
              "  </thead>\n",
              "  <tbody>\n",
              "    <tr>\n",
              "      <th>count</th>\n",
              "      <td>500</td>\n",
              "    </tr>\n",
              "    <tr>\n",
              "      <th>unique</th>\n",
              "      <td>4</td>\n",
              "    </tr>\n",
              "    <tr>\n",
              "      <th>top</th>\n",
              "      <td>Photo</td>\n",
              "    </tr>\n",
              "    <tr>\n",
              "      <th>freq</th>\n",
              "      <td>426</td>\n",
              "    </tr>\n",
              "  </tbody>\n",
              "</table>\n",
              "</div>\n",
              "      <button class=\"colab-df-convert\" onclick=\"convertToInteractive('df-12a4941e-905a-466a-8134-00dd79e32958')\"\n",
              "              title=\"Convert this dataframe to an interactive table.\"\n",
              "              style=\"display:none;\">\n",
              "        \n",
              "  <svg xmlns=\"http://www.w3.org/2000/svg\" height=\"24px\"viewBox=\"0 0 24 24\"\n",
              "       width=\"24px\">\n",
              "    <path d=\"M0 0h24v24H0V0z\" fill=\"none\"/>\n",
              "    <path d=\"M18.56 5.44l.94 2.06.94-2.06 2.06-.94-2.06-.94-.94-2.06-.94 2.06-2.06.94zm-11 1L8.5 8.5l.94-2.06 2.06-.94-2.06-.94L8.5 2.5l-.94 2.06-2.06.94zm10 10l.94 2.06.94-2.06 2.06-.94-2.06-.94-.94-2.06-.94 2.06-2.06.94z\"/><path d=\"M17.41 7.96l-1.37-1.37c-.4-.4-.92-.59-1.43-.59-.52 0-1.04.2-1.43.59L10.3 9.45l-7.72 7.72c-.78.78-.78 2.05 0 2.83L4 21.41c.39.39.9.59 1.41.59.51 0 1.02-.2 1.41-.59l7.78-7.78 2.81-2.81c.8-.78.8-2.07 0-2.86zM5.41 20L4 18.59l7.72-7.72 1.47 1.35L5.41 20z\"/>\n",
              "  </svg>\n",
              "      </button>\n",
              "      \n",
              "  <style>\n",
              "    .colab-df-container {\n",
              "      display:flex;\n",
              "      flex-wrap:wrap;\n",
              "      gap: 12px;\n",
              "    }\n",
              "\n",
              "    .colab-df-convert {\n",
              "      background-color: #E8F0FE;\n",
              "      border: none;\n",
              "      border-radius: 50%;\n",
              "      cursor: pointer;\n",
              "      display: none;\n",
              "      fill: #1967D2;\n",
              "      height: 32px;\n",
              "      padding: 0 0 0 0;\n",
              "      width: 32px;\n",
              "    }\n",
              "\n",
              "    .colab-df-convert:hover {\n",
              "      background-color: #E2EBFA;\n",
              "      box-shadow: 0px 1px 2px rgba(60, 64, 67, 0.3), 0px 1px 3px 1px rgba(60, 64, 67, 0.15);\n",
              "      fill: #174EA6;\n",
              "    }\n",
              "\n",
              "    [theme=dark] .colab-df-convert {\n",
              "      background-color: #3B4455;\n",
              "      fill: #D2E3FC;\n",
              "    }\n",
              "\n",
              "    [theme=dark] .colab-df-convert:hover {\n",
              "      background-color: #434B5C;\n",
              "      box-shadow: 0px 1px 3px 1px rgba(0, 0, 0, 0.15);\n",
              "      filter: drop-shadow(0px 1px 2px rgba(0, 0, 0, 0.3));\n",
              "      fill: #FFFFFF;\n",
              "    }\n",
              "  </style>\n",
              "\n",
              "      <script>\n",
              "        const buttonEl =\n",
              "          document.querySelector('#df-12a4941e-905a-466a-8134-00dd79e32958 button.colab-df-convert');\n",
              "        buttonEl.style.display =\n",
              "          google.colab.kernel.accessAllowed ? 'block' : 'none';\n",
              "\n",
              "        async function convertToInteractive(key) {\n",
              "          const element = document.querySelector('#df-12a4941e-905a-466a-8134-00dd79e32958');\n",
              "          const dataTable =\n",
              "            await google.colab.kernel.invokeFunction('convertToInteractive',\n",
              "                                                     [key], {});\n",
              "          if (!dataTable) return;\n",
              "\n",
              "          const docLinkHtml = 'Like what you see? Visit the ' +\n",
              "            '<a target=\"_blank\" href=https://colab.research.google.com/notebooks/data_table.ipynb>data table notebook</a>'\n",
              "            + ' to learn more about interactive tables.';\n",
              "          element.innerHTML = '';\n",
              "          dataTable['output_type'] = 'display_data';\n",
              "          await google.colab.output.renderOutput(dataTable, element);\n",
              "          const docLink = document.createElement('div');\n",
              "          docLink.innerHTML = docLinkHtml;\n",
              "          element.appendChild(docLink);\n",
              "        }\n",
              "      </script>\n",
              "    </div>\n",
              "  </div>\n",
              "  "
            ]
          },
          "metadata": {},
          "execution_count": 10
        }
      ],
      "source": [
        "#Información estadística de la base de datos\n",
        "data.describe(include=object)"
      ]
    },
    {
      "cell_type": "code",
      "execution_count": null,
      "metadata": {
        "id": "o8iH-QlJAXZe"
      },
      "outputs": [],
      "source": [
        "#Clasificando las variables de la base de datos\n",
        "exit_col = 'LPE'\n",
        "cat_cols = ['Type','Category','Paid']\n",
        "date_cols = ['Post Month','Post Weekday','Post Hour']\n",
        "performance_cols = ['Page total likes']"
      ]
    },
    {
      "cell_type": "code",
      "execution_count": null,
      "metadata": {
        "id": "Qh9LF5xC9Lul"
      },
      "outputs": [],
      "source": [
        "X = data.iloc[:,:-1]\n",
        "y = data.iloc[:,-1]"
      ]
    },
    {
      "cell_type": "markdown",
      "metadata": {
        "id": "xZhr2hkECzVv"
      },
      "source": [
        "#**Ejercicio-2.**"
      ]
    },
    {
      "cell_type": "markdown",
      "source": [
        "**Realiza una partición de los datos con 100 datos de Prueba y el resto para entrenamiento y\n",
        "validación.**"
      ],
      "metadata": {
        "id": "SiL51qgjU9ku"
      }
    },
    {
      "cell_type": "code",
      "execution_count": null,
      "metadata": {
        "id": "EiDlTPK8-8jf"
      },
      "outputs": [],
      "source": [
        "# Partición de los datos con 100 datos de Prueba y el resto para entrenamiento y validación\n",
        "Xtv, X_test, ytv, y_test = train_test_split(X, y, test_size=100, random_state=42)"
      ]
    },
    {
      "cell_type": "markdown",
      "metadata": {
        "id": "NCunuooTC2W3"
      },
      "source": [
        "#**Ejercicio-3.**"
      ]
    },
    {
      "cell_type": "markdown",
      "source": [
        "**Definición de funciones de errores.**"
      ],
      "metadata": {
        "id": "ngk9eHpZVJNz"
      }
    },
    {
      "cell_type": "code",
      "execution_count": null,
      "metadata": {
        "id": "YXlcSWA-C4Dj"
      },
      "outputs": [],
      "source": [
        "#Función: Raíz del Error Cuadrático Medio\n",
        "def mi_rmse(y_true, y_pred):\n",
        "  \"\"\"\n",
        "    Calcula el Root Mean Square Error (RMSE) entre dos series.\n",
        "    \n",
        "    Args:\n",
        "        y_true: Serie de Pandas con los valores reales.\n",
        "        y_pred: Serie de Pandas con los valores predichos.\n",
        "        \n",
        "    Returns:\n",
        "        float: El valor del RMSE.\n",
        "  \"\"\"\n",
        "  mse = np.mean((y_true - y_pred) ** 2)\n",
        "  rmse = np.sqrt(mse)\n",
        "  return rmse"
      ]
    },
    {
      "cell_type": "code",
      "execution_count": null,
      "metadata": {
        "id": "BKI80-YdC4HN"
      },
      "outputs": [],
      "source": [
        "#Función Promedio de los Errores Absolutos\n",
        "def mi_mae(y_true, y_pred):\n",
        "    \"\"\"\n",
        "    Calcula el Mean Absolute Error (MAE) entre dos series.\n",
        "    \n",
        "    Args:\n",
        "        y_true: Serie de Pandas con los valores reales.\n",
        "        y_pred: Serie de Pandas con los valores predichos.\n",
        "        \n",
        "    Returns:\n",
        "        float: El valor del MAE.\n",
        "    \"\"\"\n",
        "    mae = np.mean(np.abs(y_true - y_pred))\n",
        "    return mae"
      ]
    },
    {
      "cell_type": "code",
      "execution_count": null,
      "metadata": {
        "id": "ScSbyGz8BESB"
      },
      "outputs": [],
      "source": [
        "#Función Promedio de los Errores Porcentuales Absolutos\n",
        "def mi_mape(y_true, y_pred):\n",
        "    \"\"\"\n",
        "    Calcula el Mean Absolute Percentage Error (MAPE) entre dos series.\n",
        "    \n",
        "    Args:\n",
        "        y_true: Serie de Pandas con los valores reales.\n",
        "        y_pred: Serie de Pandas con los valores predichos.\n",
        "        \n",
        "    Returns:\n",
        "        float: El valor del MAPE.\n",
        "    \"\"\"\n",
        "    mape = np.mean(np.abs((y_true - y_pred) / y_true)) * 100\n",
        "    return mape\n"
      ]
    },
    {
      "cell_type": "markdown",
      "metadata": {
        "id": "chqk9jIDC5Pq"
      },
      "source": [
        "#**Ejercicio-4.**"
      ]
    },
    {
      "cell_type": "markdown",
      "source": [
        "**Análisis de datos / transformaciones para los datos de entrada y salida.**"
      ],
      "metadata": {
        "id": "RYXF85sSWu96"
      }
    },
    {
      "cell_type": "code",
      "execution_count": null,
      "metadata": {
        "colab": {
          "base_uri": "https://localhost:8080/",
          "height": 603
        },
        "id": "HXanO5U0QpdQ",
        "outputId": "1bbcb3cc-11f1-42ce-e82e-86e56bbfca75"
      },
      "outputs": [
        {
          "output_type": "display_data",
          "data": {
            "text/plain": [
              "<Figure size 1500x600 with 1 Axes>"
            ],
            "image/png": "[encoded data removed]"
          },
          "metadata": {}
        }
      ],
      "source": [
        "# Análisis de las variables performance\n",
        "fig, axes = plt.subplots(1, 1, figsize=(15,6)) \n",
        "#axes = axes.ravel()\n",
        "#for col, ax in zip(performance_cols):\n",
        "sns.histplot(data = Xtv, x=performance_cols[0]).set(title=f'{performance_cols[0]}', xlabel=None)\n",
        "fig.tight_layout()\n",
        "plt.show()"
      ]
    },
    {
      "cell_type": "markdown",
      "metadata": {
        "id": "YeEbRrn0VgDB"
      },
      "source": [
        "La varialble 'Page total likes' que es métrica que se utilizó en el artículo antes mencionado para medir el impacto de la publicación tiene un sesgo positivo, es decir, existe un conjunto de valores altos de esta variable en comparación con la mayoría de las observaciones."
      ]
    },
    {
      "cell_type": "code",
      "execution_count": null,
      "metadata": {
        "colab": {
          "base_uri": "https://localhost:8080/",
          "height": 627
        },
        "id": "Taa6g7DigWAv",
        "outputId": "cd9f700a-f8da-4be1-f53b-60a18af15a53"
      },
      "outputs": [
        {
          "output_type": "display_data",
          "data": {
            "text/plain": [
              "<Figure size 1500x600 with 3 Axes>"
            ],
            "image/png": "[encoded data removed]"
          },
          "metadata": {}
        }
      ],
      "source": [
        "# Análisis de las variables categoricas\n",
        "fig, axes = plt.subplots(1, 3, figsize=(15,6)) \n",
        "axes = axes.ravel()\n",
        "for col, ax in zip(cat_cols, axes):\n",
        "  sns.histplot(data = Xtv, x=col, ax=ax)\n",
        "  ax.set(title=f'{col}', xlabel=None) \n",
        "  ax.tick_params(axis='x',rotation=90) \n",
        "  fig.tight_layout()\n",
        "plt.show()"
      ]
    },
    {
      "cell_type": "markdown",
      "metadata": {
        "id": "Xi_L95dbgs-w"
      },
      "source": [
        "Respeto a la variable **'type'**, observamos que tipo de contenido con mayor frecuencia son las fotos, mientras que video es el que tiene menor frecuencia y citando al artículo es importante destacar que esta variable fue considerada como la característica más relevante para el modelo, ya que obtuvo una relevancia del 36%.\n",
        "\n",
        "La variable **'Category'** vemos que el tipo de contenido mas frecuente es la catalogada como acción (ofertas especiales y concursos), seguido de la inspiración (contenido no explícito relacionado con la marca) y finalmente la categoria con menor frecuencia es la de producto (publicidad directa, contenido de marca explícito).\n",
        "\n",
        "Con la variable **'Paid'** Observamos que en su mayoría las empresas pagaron a Facebook por la publicidad de sus productos. "
      ]
    },
    {
      "cell_type": "code",
      "execution_count": null,
      "metadata": {
        "colab": {
          "base_uri": "https://localhost:8080/",
          "height": 603
        },
        "id": "YN2faLwNQz5b",
        "outputId": "ddea6d25-4aa0-499e-874b-02274f79af21"
      },
      "outputs": [
        {
          "output_type": "display_data",
          "data": {
            "text/plain": [
              "<Figure size 1500x600 with 3 Axes>"
            ],
            "image/png": "[encoded data removed]"
          },
          "metadata": {}
        }
      ],
      "source": [
        "# Análisis de las variables date\n",
        "fig, axes = plt.subplots(1, 3, figsize=(15,6)) \n",
        "axes = axes.ravel()\n",
        "for col, ax in zip(date_cols, axes):\n",
        "  sns.histplot(data = Xtv, x=col, ax=ax)\n",
        "  ax.set(title=f'{col}', xlabel=None) \n",
        "  ax.tick_params(axis='x',rotation=90) \n",
        "  fig.tight_layout()\n",
        "plt.show()"
      ]
    },
    {
      "cell_type": "markdown",
      "source": [
        "La variable 'Post month' en la mayoría de los meses se encuentra entre 30 y 40 publicaciónes, sin embargo, es evidente que en el mes de diciembre la publicación en facebook incrementa de manera significtiva.\n",
        "\n",
        "En la variable 'post weekday' vemos que los días domingo y sábado son los días donde el número de publicacioes es mayor.\n",
        "\n",
        "Con la variable 'Post hour' observmos que la mayoria de los pots se publican antes de las primeras 10 horas del día."
      ],
      "metadata": {
        "id": "pojTfRv7f42g"
      }
    },
    {
      "cell_type": "markdown",
      "metadata": {
        "id": "rFVxPSeRSW7N"
      },
      "source": [
        "**Finalmente después de análisis de variables se decidió hacer una transformación y escalamiento para las variables numéricas usando StandardScaler y MinMax.** \n",
        "\n",
        "**Mientras que para las variables categóricas se usará OneHotEncoder para tener consistencia en las variables.**"
      ]
    },
    {
      "cell_type": "code",
      "execution_count": null,
      "metadata": {
        "colab": {
          "base_uri": "https://localhost:8080/",
          "height": 430
        },
        "id": "ldhG5BSL0ycx",
        "outputId": "4e27e0d1-be05-4683-8f25-de5d760a6908"
      },
      "outputs": [
        {
          "output_type": "display_data",
          "data": {
            "text/plain": [
              "<Figure size 640x480 with 1 Axes>"
            ],
            "image/png": "[encoded data removed]"
          },
          "metadata": {}
        }
      ],
      "source": [
        "# Análisis de la variable de salida\n",
        "plt.hist(y)\n",
        "plt.show()"
      ]
    },
    {
      "cell_type": "markdown",
      "metadata": {
        "id": "WJqt4sD1xPCJ"
      },
      "source": [
        "Dado que la variable de salida, LPE, tiene sesgo negativo, se le aplicara una transformacion logaritmica + 1 para tener un mejor resultado en los modelos."
      ]
    },
    {
      "cell_type": "code",
      "execution_count": null,
      "metadata": {
        "id": "Y60R4suCQVrA"
      },
      "outputs": [],
      "source": [
        "# Transformaciones one-hot \n",
        "ohe_pipeline = Pipeline(steps = [(\"impMode\", SimpleImputer(strategy=\"most_frequent\")),\n",
        "                                        ('OneHotE', OneHotEncoder(drop='first',  handle_unknown=\"ignore\"))])\n",
        "\n",
        "numeric_pipeline = Pipeline(steps = [(\"impMediana\", SimpleImputer(strategy=\"median\")),\n",
        "                            ('scale', MinMaxScaler())])\n",
        "catMap_pipe = Pipeline(steps=([('catmap',FunctionTransformer(my_type))]))\n",
        "mapvar = ['Type']\n",
        "\n",
        "columnasTransformer = ColumnTransformer(transformers = [('perfcols', numeric_pipeline, performance_cols),\n",
        "                                                        ('catmap',catMap_pipe,mapvar),\n",
        "                                                        ('catcols',ohe_pipeline, cat_cols),\n",
        "                                                        ('datecols',ohe_pipeline, date_cols)\n",
        "                                                        ],\n",
        "                                        remainder='passthrough')"
      ]
    },
    {
      "cell_type": "code",
      "execution_count": null,
      "metadata": {
        "colab": {
          "base_uri": "https://localhost:8080/",
          "height": 151
        },
        "id": "gehnSGsGRbMG",
        "outputId": "f0495eb7-e833-45f6-fb0f-fa51cdcb96d1"
      },
      "outputs": [
        {
          "output_type": "execute_result",
          "data": {
            "text/plain": [
              "ColumnTransformer(remainder='passthrough',\n",
              "                  transformers=[('perfcols',\n",
              "                                 Pipeline(steps=[('impMediana',\n",
              "                                                  SimpleImputer(strategy='median')),\n",
              "                                                 ('scale', MinMaxScaler())]),\n",
              "                                 ['Page total likes']),\n",
              "                                ('catmap',\n",
              "                                 Pipeline(steps=[('catmap',\n",
              "                                                  FunctionTransformer(func=<function my_type at 0x7fabf1490430>))]),\n",
              "                                 ['Type']),\n",
              "                                ('catcols',\n",
              "                                 Pipeline(steps=[('impMode',\n",
              "                                                  SimpleImputer(strategy='most_frequent')),\n",
              "                                                 ('OneHotE',\n",
              "                                                  OneHotEncoder(drop='first',\n",
              "                                                                handle_unknown='ignore'))]),\n",
              "                                 ['Type', 'Category', 'Paid']),\n",
              "                                ('datecols',\n",
              "                                 Pipeline(steps=[('impMode',\n",
              "                                                  SimpleImputer(strategy='most_frequent')),\n",
              "                                                 ('OneHotE',\n",
              "                                                  OneHotEncoder(drop='first',\n",
              "                                                                handle_unknown='ignore'))]),\n",
              "                                 ['Post Month', 'Post Weekday', 'Post Hour'])])"
            ],
            "text/html": [
              "<style>#sk-container-id-1 {color: black;background-color: white;}#sk-container-id-1 pre{padding: 0;}#sk-container-id-1 div.sk-toggleable {background-color: white;}#sk-container-id-1 label.sk-toggleable__label {cursor: pointer;display: block;width: 100%;margin-bottom: 0;padding: 0.3em;box-sizing: border-box;text-align: center;}#sk-container-id-1 label.sk-toggleable__label-arrow:before {content: \"▸\";float: left;margin-right: 0.25em;color: #696969;}#sk-container-id-1 label.sk-toggleable__label-arrow:hover:before {color: black;}#sk-container-id-1 div.sk-estimator:hover label.sk-toggleable__label-arrow:before {color: black;}#sk-container-id-1 div.sk-toggleable__content {max-height: 0;max-width: 0;overflow: hidden;text-align: left;background-color: #f0f8ff;}#sk-container-id-1 div.sk-toggleable__content pre {margin: 0.2em;color: black;border-radius: 0.25em;background-color: #f0f8ff;}#sk-container-id-1 input.sk-toggleable__control:checked~div.sk-toggleable__content {max-height: 200px;max-width: 100%;overflow: auto;}#sk-container-id-1 input.sk-toggleable__control:checked~label.sk-toggleable__label-arrow:before {content: \"▾\";}#sk-container-id-1 div.sk-estimator input.sk-toggleable__control:checked~label.sk-toggleable__label {background-color: #d4ebff;}#sk-container-id-1 div.sk-label input.sk-toggleable__control:checked~label.sk-toggleable__label {background-color: #d4ebff;}#sk-container-id-1 input.sk-hidden--visually {border: 0;clip: rect(1px 1px 1px 1px);clip: rect(1px, 1px, 1px, 1px);height: 1px;margin: -1px;overflow: hidden;padding: 0;position: absolute;width: 1px;}#sk-container-id-1 div.sk-estimator {font-family: monospace;background-color: #f0f8ff;border: 1px dotted black;border-radius: 0.25em;box-sizing: border-box;margin-bottom: 0.5em;}#sk-container-id-1 div.sk-estimator:hover {background-color: #d4ebff;}#sk-container-id-1 div.sk-parallel-item::after {content: \"\";width: 100%;border-bottom: 1px solid gray;flex-grow: 1;}#sk-container-id-1 div.sk-label:hover label.sk-toggleable__label {background-color: #d4ebff;}#sk-container-id-1 div.sk-serial::before {content: \"\";position: absolute;border-left: 1px solid gray;box-sizing: border-box;top: 0;bottom: 0;left: 50%;z-index: 0;}#sk-container-id-1 div.sk-serial {display: flex;flex-direction: column;align-items: center;background-color: white;padding-right: 0.2em;padding-left: 0.2em;position: relative;}#sk-container-id-1 div.sk-item {position: relative;z-index: 1;}#sk-container-id-1 div.sk-parallel {display: flex;align-items: stretch;justify-content: center;background-color: white;position: relative;}#sk-container-id-1 div.sk-item::before, #sk-container-id-1 div.sk-parallel-item::before {content: \"\";position: absolute;border-left: 1px solid gray;box-sizing: border-box;top: 0;bottom: 0;left: 50%;z-index: -1;}#sk-container-id-1 div.sk-parallel-item {display: flex;flex-direction: column;z-index: 1;position: relative;background-color: white;}#sk-container-id-1 div.sk-parallel-item:first-child::after {align-self: flex-end;width: 50%;}#sk-container-id-1 div.sk-parallel-item:last-child::after {align-self: flex-start;width: 50%;}#sk-container-id-1 div.sk-parallel-item:only-child::after {width: 0;}#sk-container-id-1 div.sk-dashed-wrapped {border: 1px dashed gray;margin: 0 0.4em 0.5em 0.4em;box-sizing: border-box;padding-bottom: 0.4em;background-color: white;}#sk-container-id-1 div.sk-label label {font-family: monospace;font-weight: bold;display: inline-block;line-height: 1.2em;}#sk-container-id-1 div.sk-label-container {text-align: center;}#sk-container-id-1 div.sk-container {/* jupyter's `normalize.less` sets `[hidden] { display: none; }` but bootstrap.min.css set `[hidden] { display: none !important; }` so we also need the `!important` here to be able to override the default hidden behavior on the sphinx rendered scikit-learn.org. See: https://github.com/scikit-learn/scikit-learn/issues/21755 */display: inline-block !important;position: relative;}#sk-container-id-1 div.sk-text-repr-fallback {display: none;}</style><div id=\"sk-container-id-1\" class=\"sk-top-container\"><div class=\"sk-text-repr-fallback\"><pre>ColumnTransformer(remainder=&#x27;passthrough&#x27;,\n",
              "                  transformers=[(&#x27;perfcols&#x27;,\n",
              "                                 Pipeline(steps=[(&#x27;impMediana&#x27;,\n",
              "                                                  SimpleImputer(strategy=&#x27;median&#x27;)),\n",
              "                                                 (&#x27;scale&#x27;, MinMaxScaler())]),\n",
              "                                 [&#x27;Page total likes&#x27;]),\n",
              "                                (&#x27;catmap&#x27;,\n",
              "                                 Pipeline(steps=[(&#x27;catmap&#x27;,\n",
              "                                                  FunctionTransformer(func=&lt;function my_type at 0x7fabf1490430&gt;))]),\n",
              "                                 [&#x27;Type&#x27;]),\n",
              "                                (&#x27;catcols&#x27;,\n",
              "                                 Pipeline(steps=[(&#x27;impMode&#x27;,\n",
              "                                                  SimpleImputer(strategy=&#x27;most_frequent&#x27;)),\n",
              "                                                 (&#x27;OneHotE&#x27;,\n",
              "                                                  OneHotEncoder(drop=&#x27;first&#x27;,\n",
              "                                                                handle_unknown=&#x27;ignore&#x27;))]),\n",
              "                                 [&#x27;Type&#x27;, &#x27;Category&#x27;, &#x27;Paid&#x27;]),\n",
              "                                (&#x27;datecols&#x27;,\n",
              "                                 Pipeline(steps=[(&#x27;impMode&#x27;,\n",
              "                                                  SimpleImputer(strategy=&#x27;most_frequent&#x27;)),\n",
              "                                                 (&#x27;OneHotE&#x27;,\n",
              "                                                  OneHotEncoder(drop=&#x27;first&#x27;,\n",
              "                                                                handle_unknown=&#x27;ignore&#x27;))]),\n",
              "                                 [&#x27;Post Month&#x27;, &#x27;Post Weekday&#x27;, &#x27;Post Hour&#x27;])])</pre><b>In a Jupyter environment, please rerun this cell to show the HTML representation or trust the notebook. <br />On GitHub, the HTML representation is unable to render, please try loading this page with nbviewer.org.</b></div><div class=\"sk-container\" hidden><div class=\"sk-item sk-dashed-wrapped\"><div class=\"sk-label-container\"><div class=\"sk-label sk-toggleable\"><input class=\"sk-toggleable__control sk-hidden--visually\" id=\"sk-estimator-id-1\" type=\"checkbox\" ><label for=\"sk-estimator-id-1\" class=\"sk-toggleable__label sk-toggleable__label-arrow\">ColumnTransformer</label><div class=\"sk-toggleable__content\"><pre>ColumnTransformer(remainder=&#x27;passthrough&#x27;,\n",
              "                  transformers=[(&#x27;perfcols&#x27;,\n",
              "                                 Pipeline(steps=[(&#x27;impMediana&#x27;,\n",
              "                                                  SimpleImputer(strategy=&#x27;median&#x27;)),\n",
              "                                                 (&#x27;scale&#x27;, MinMaxScaler())]),\n",
              "                                 [&#x27;Page total likes&#x27;]),\n",
              "                                (&#x27;catmap&#x27;,\n",
              "                                 Pipeline(steps=[(&#x27;catmap&#x27;,\n",
              "                                                  FunctionTransformer(func=&lt;function my_type at 0x7fabf1490430&gt;))]),\n",
              "                                 [&#x27;Type&#x27;]),\n",
              "                                (&#x27;catcols&#x27;,\n",
              "                                 Pipeline(steps=[(&#x27;impMode&#x27;,\n",
              "                                                  SimpleImputer(strategy=&#x27;most_frequent&#x27;)),\n",
              "                                                 (&#x27;OneHotE&#x27;,\n",
              "                                                  OneHotEncoder(drop=&#x27;first&#x27;,\n",
              "                                                                handle_unknown=&#x27;ignore&#x27;))]),\n",
              "                                 [&#x27;Type&#x27;, &#x27;Category&#x27;, &#x27;Paid&#x27;]),\n",
              "                                (&#x27;datecols&#x27;,\n",
              "                                 Pipeline(steps=[(&#x27;impMode&#x27;,\n",
              "                                                  SimpleImputer(strategy=&#x27;most_frequent&#x27;)),\n",
              "                                                 (&#x27;OneHotE&#x27;,\n",
              "                                                  OneHotEncoder(drop=&#x27;first&#x27;,\n",
              "                                                                handle_unknown=&#x27;ignore&#x27;))]),\n",
              "                                 [&#x27;Post Month&#x27;, &#x27;Post Weekday&#x27;, &#x27;Post Hour&#x27;])])</pre></div></div></div><div class=\"sk-parallel\"><div class=\"sk-parallel-item\"><div class=\"sk-item\"><div class=\"sk-label-container\"><div class=\"sk-label sk-toggleable\"><input class=\"sk-toggleable__control sk-hidden--visually\" id=\"sk-estimator-id-2\" type=\"checkbox\" ><label for=\"sk-estimator-id-2\" class=\"sk-toggleable__label sk-toggleable__label-arrow\">perfcols</label><div class=\"sk-toggleable__content\"><pre>[&#x27;Page total likes&#x27;]</pre></div></div></div><div class=\"sk-serial\"><div class=\"sk-item\"><div class=\"sk-serial\"><div class=\"sk-item\"><div class=\"sk-estimator sk-toggleable\"><input class=\"sk-toggleable__control sk-hidden--visually\" id=\"sk-estimator-id-3\" type=\"checkbox\" ><label for=\"sk-estimator-id-3\" class=\"sk-toggleable__label sk-toggleable__label-arrow\">SimpleImputer</label><div class=\"sk-toggleable__content\"><pre>SimpleImputer(strategy=&#x27;median&#x27;)</pre></div></div></div><div class=\"sk-item\"><div class=\"sk-estimator sk-toggleable\"><input class=\"sk-toggleable__control sk-hidden--visually\" id=\"sk-estimator-id-4\" type=\"checkbox\" ><label for=\"sk-estimator-id-4\" class=\"sk-toggleable__label sk-toggleable__label-arrow\">MinMaxScaler</label><div class=\"sk-toggleable__content\"><pre>MinMaxScaler()</pre></div></div></div></div></div></div></div></div><div class=\"sk-parallel-item\"><div class=\"sk-item\"><div class=\"sk-label-container\"><div class=\"sk-label sk-toggleable\"><input class=\"sk-toggleable__control sk-hidden--visually\" id=\"sk-estimator-id-5\" type=\"checkbox\" ><label for=\"sk-estimator-id-5\" class=\"sk-toggleable__label sk-toggleable__label-arrow\">catmap</label><div class=\"sk-toggleable__content\"><pre>[&#x27;Type&#x27;]</pre></div></div></div><div class=\"sk-serial\"><div class=\"sk-item\"><div class=\"sk-serial\"><div class=\"sk-item\"><div class=\"sk-estimator sk-toggleable\"><input class=\"sk-toggleable__control sk-hidden--visually\" id=\"sk-estimator-id-6\" type=\"checkbox\" ><label for=\"sk-estimator-id-6\" class=\"sk-toggleable__label sk-toggleable__label-arrow\">FunctionTransformer</label><div class=\"sk-toggleable__content\"><pre>FunctionTransformer(func=&lt;function my_type at 0x7fabf1490430&gt;)</pre></div></div></div></div></div></div></div></div><div class=\"sk-parallel-item\"><div class=\"sk-item\"><div class=\"sk-label-container\"><div class=\"sk-label sk-toggleable\"><input class=\"sk-toggleable__control sk-hidden--visually\" id=\"sk-estimator-id-7\" type=\"checkbox\" ><label for=\"sk-estimator-id-7\" class=\"sk-toggleable__label sk-toggleable__label-arrow\">catcols</label><div class=\"sk-toggleable__content\"><pre>[&#x27;Type&#x27;, &#x27;Category&#x27;, &#x27;Paid&#x27;]</pre></div></div></div><div class=\"sk-serial\"><div class=\"sk-item\"><div class=\"sk-serial\"><div class=\"sk-item\"><div class=\"sk-estimator sk-toggleable\"><input class=\"sk-toggleable__control sk-hidden--visually\" id=\"sk-estimator-id-8\" type=\"checkbox\" ><label for=\"sk-estimator-id-8\" class=\"sk-toggleable__label sk-toggleable__label-arrow\">SimpleImputer</label><div class=\"sk-toggleable__content\"><pre>SimpleImputer(strategy=&#x27;most_frequent&#x27;)</pre></div></div></div><div class=\"sk-item\"><div class=\"sk-estimator sk-toggleable\"><input class=\"sk-toggleable__control sk-hidden--visually\" id=\"sk-estimator-id-9\" type=\"checkbox\" ><label for=\"sk-estimator-id-9\" class=\"sk-toggleable__label sk-toggleable__label-arrow\">OneHotEncoder</label><div class=\"sk-toggleable__content\"><pre>OneHotEncoder(drop=&#x27;first&#x27;, handle_unknown=&#x27;ignore&#x27;)</pre></div></div></div></div></div></div></div></div><div class=\"sk-parallel-item\"><div class=\"sk-item\"><div class=\"sk-label-container\"><div class=\"sk-label sk-toggleable\"><input class=\"sk-toggleable__control sk-hidden--visually\" id=\"sk-estimator-id-10\" type=\"checkbox\" ><label for=\"sk-estimator-id-10\" class=\"sk-toggleable__label sk-toggleable__label-arrow\">datecols</label><div class=\"sk-toggleable__content\"><pre>[&#x27;Post Month&#x27;, &#x27;Post Weekday&#x27;, &#x27;Post Hour&#x27;]</pre></div></div></div><div class=\"sk-serial\"><div class=\"sk-item\"><div class=\"sk-serial\"><div class=\"sk-item\"><div class=\"sk-estimator sk-toggleable\"><input class=\"sk-toggleable__control sk-hidden--visually\" id=\"sk-estimator-id-11\" type=\"checkbox\" ><label for=\"sk-estimator-id-11\" class=\"sk-toggleable__label sk-toggleable__label-arrow\">SimpleImputer</label><div class=\"sk-toggleable__content\"><pre>SimpleImputer(strategy=&#x27;most_frequent&#x27;)</pre></div></div></div><div class=\"sk-item\"><div class=\"sk-estimator sk-toggleable\"><input class=\"sk-toggleable__control sk-hidden--visually\" id=\"sk-estimator-id-12\" type=\"checkbox\" ><label for=\"sk-estimator-id-12\" class=\"sk-toggleable__label sk-toggleable__label-arrow\">OneHotEncoder</label><div class=\"sk-toggleable__content\"><pre>OneHotEncoder(drop=&#x27;first&#x27;, handle_unknown=&#x27;ignore&#x27;)</pre></div></div></div></div></div></div></div></div><div class=\"sk-parallel-item\"><div class=\"sk-item\"><div class=\"sk-label-container\"><div class=\"sk-label sk-toggleable\"><input class=\"sk-toggleable__control sk-hidden--visually\" id=\"sk-estimator-id-13\" type=\"checkbox\" ><label for=\"sk-estimator-id-13\" class=\"sk-toggleable__label sk-toggleable__label-arrow\">remainder</label><div class=\"sk-toggleable__content\"><pre></pre></div></div></div><div class=\"sk-serial\"><div class=\"sk-item\"><div class=\"sk-estimator sk-toggleable\"><input class=\"sk-toggleable__control sk-hidden--visually\" id=\"sk-estimator-id-14\" type=\"checkbox\" ><label for=\"sk-estimator-id-14\" class=\"sk-toggleable__label sk-toggleable__label-arrow\">passthrough</label><div class=\"sk-toggleable__content\"><pre>passthrough</pre></div></div></div></div></div></div></div></div></div></div>"
            ]
          },
          "metadata": {},
          "execution_count": 23
        }
      ],
      "source": [
        "columnasTransformer"
      ]
    },
    {
      "cell_type": "code",
      "execution_count": null,
      "metadata": {
        "id": "94bD8RgjxPCH"
      },
      "outputs": [],
      "source": [
        "#Label encoder para variable Type\n",
        "def my_type(x):\n",
        "    x['Type'] = x['Type'].map({'Photo':1,'Status':2, 'Link':0, 'Video':0})\n",
        "    return x\n",
        "\n",
        "#Transformacion para variable de salida y su inversa\n",
        "def my_log(y):\n",
        "    tmp = np.log(1+y)\n",
        "    return tmp\n",
        "\n",
        "def my_invlog(y):\n",
        "    tmp=np.exp(y) -1\n",
        "    return tmp"
      ]
    },
    {
      "cell_type": "markdown",
      "metadata": {
        "id": "Rv7KFq-mC7PS"
      },
      "source": [
        "#**Ejercicio-5.**"
      ]
    },
    {
      "cell_type": "markdown",
      "source": [
        "**Utiliza la función Dummy para modelos de regresión de scikit-learn con el conjunto que tienes de datos de entrenamiento y validación.**\n",
        "\n",
        "**Para ello particiónalos en 100 para validación y 300 para entrenamiento. Encuentra los errores RMSE, MAE y MAPE para los conjuntos de entrenamiento y validación.**"
      ],
      "metadata": {
        "id": "Rj4p_2NgjNNl"
      }
    },
    {
      "cell_type": "code",
      "execution_count": null,
      "metadata": {
        "colab": {
          "base_uri": "https://localhost:8080/"
        },
        "id": "zCixlG4SxPCK",
        "outputId": "d966a5f1-5371-4204-ed21-341b7ab620f0"
      },
      "outputs": [
        {
          "output_type": "execute_result",
          "data": {
            "text/plain": [
              "249    287\n",
              "433    865\n",
              "19     100\n",
              "322    319\n",
              "332    306\n",
              "      ... \n",
              "106    328\n",
              "270    975\n",
              "348    403\n",
              "435    472\n",
              "102    205\n",
              "Name: LPE, Length: 400, dtype: int64"
            ]
          },
          "metadata": {},
          "execution_count": 24
        }
      ],
      "source": [
        "#Partición de datos\n",
        "X_train, X_val, y_train, y_val = train_test_split(Xtv, ytv, train_size=300, random_state=3)\n",
        "ytv"
      ]
    },
    {
      "cell_type": "code",
      "execution_count": null,
      "metadata": {
        "id": "jaDj3kawC9B6"
      },
      "outputs": [],
      "source": [
        "#Utilizando la función Dummy\n",
        "X_train, X_val, y_train, y_val = train_test_split(Xtv, ytv, train_size=300, random_state=3)\n",
        "\n",
        "y_trainLog = my_log(y_train)\n",
        "y_valLog = my_log(y_val)\n",
        "X_trainFTf = columnasTransformer.fit_transform(X_train)\n",
        "X_valFTf = columnasTransformer.transform(X_val)\n",
        "\n",
        "modeloDummy = DummyRegressor()\n",
        "#modeloDummy.fit(X_trainFTf, y_train)\n",
        "modeloDummy.fit(X_trainFTf,y_trainLog)\n",
        "\n",
        "yhat_val = modeloDummy.predict(X_valFTf)\n",
        "yhat_train = modeloDummy.predict(X_trainFTf)"
      ]
    },
    {
      "cell_type": "code",
      "execution_count": null,
      "metadata": {
        "colab": {
          "base_uri": "https://localhost:8080/"
        },
        "id": "4tQxQROVC9Us",
        "outputId": "99d79a02-b25f-4eb1-f0c6-605fe7f25d88"
      },
      "outputs": [
        {
          "output_type": "stream",
          "name": "stdout",
          "text": [
            "Val RMSE: 0.7066335619867035\n",
            "Val MAE: 0.4966320594801823\n",
            "Val MAPE: 8.118731878389356\n",
            "Train RMSE: 0.8628260843268166\n",
            "Train MAE: 0.6149596259232538\n",
            "Train MAPE: 11.13402640580596\n"
          ]
        }
      ],
      "source": [
        "dummy_metrics = []\n",
        "print(f'Val RMSE: {mi_rmse(y_valLog, yhat_val)}')\n",
        "dummy_metrics.append(['Val RMSE', mi_rmse(y_valLog, yhat_val)])\n",
        "print(f'Val MAE: {mi_mae(y_valLog, yhat_val)}')\n",
        "dummy_metrics.append(['Val MAE', mi_mae(y_valLog, yhat_val)])\n",
        "print(f'Val MAPE: {mi_mape(y_valLog, yhat_val)}')\n",
        "dummy_metrics.append(['Val MAPE', mi_mape(y_valLog, yhat_val)])\n",
        "\n",
        "print(f'Train RMSE: {mi_rmse(y_trainLog, yhat_train)}')\n",
        "dummy_metrics.append(['Train RMSE', mi_rmse(y_trainLog, yhat_train)])\n",
        "print(f'Train MAE: {mi_mae(y_trainLog, yhat_train)}')\n",
        "dummy_metrics.append(['Train MAE', mi_mae(y_trainLog, yhat_train)])\n",
        "print(f'Train MAPE: {mi_mape(y_trainLog, yhat_train)}')\n",
        "dummy_metrics.append(['Train MAPE', mi_mape(y_trainLog, yhat_train)])"
      ]
    },
    {
      "cell_type": "markdown",
      "source": [
        "En las tres medidas decreció su valor en el conjunto de validación en comparación con el conjunto de entrenamiento.\n",
        "\n",
        "Como sabemos que en todas las medidas utilizadas si el valor decrece indica que el modelo está produciendo predicciones más precisas ya que mientras más pequeño es su valor, más cercanos son los valores predichos y observados."
      ],
      "metadata": {
        "id": "tzFl1YFXowEg"
      }
    },
    {
      "cell_type": "markdown",
      "metadata": {
        "id": "W2S7LI0NC9wE"
      },
      "source": [
        "#**Ejercicio-6.**"
      ]
    },
    {
      "cell_type": "markdown",
      "source": [
        "**Usando los modelos de regresión lineal múltiple, el bosque aleatorio y el perceptrón multicapa con sus valores predeterminados, lleva a cabo su entrenamiento con repeticiones de validación cruzada (RepeatedKFold)**"
      ],
      "metadata": {
        "id": "Dx3Nf3jjVBMS"
      }
    },
    {
      "cell_type": "code",
      "execution_count": null,
      "metadata": {
        "id": "x6uBleJUC_AU"
      },
      "outputs": [],
      "source": [
        "def get_models():\n",
        "  modelos = list()\n",
        "  nombres = list()\n",
        "\n",
        "  # LR - Regresión Lineal Múltiple:\n",
        "  modelos.append(LinearRegression())\n",
        "  nombres.append('Regresión Lineal')\n",
        " \n",
        "  # RF - Random Forest:\n",
        "  modelos.append(RandomForestRegressor())\n",
        "  nombres.append('Random Forest')\n",
        "\n",
        "  # MLP - Perceptrón Multicapa:\n",
        "  \n",
        "  modelos.append(MLPRegressor())\n",
        "  nombres.append('Perceptrón Multicapa')\n",
        "\n",
        "  return modelos, nombres"
      ]
    },
    {
      "cell_type": "code",
      "execution_count": null,
      "metadata": {
        "colab": {
          "base_uri": "https://localhost:8080/"
        },
        "id": "n0P_AcyjC_Dh",
        "outputId": "66ecb03a-a42e-47ea-8a2a-61901290e1c8"
      },
      "outputs": [
        {
          "output_type": "stream",
          "name": "stdout",
          "text": [
            "Modelo: Regresión Lineal\n",
            "Métricas de entrenamiento >> \n",
            "RMSE promedio: 0.635 (0.0229)\n",
            "MAE promedio: 0.441 (0.0156)\n",
            "MAPE promedio: 7.869 (0.3567)\n",
            "\n",
            "Métricas de validación >> \n",
            "RMSE promedio: 0.745 (0.0930)\n",
            "MAE promedio: 0.521 (0.0534)\n",
            "MAPE promedio: 9.309 (1.6128)\n",
            "\n",
            "Modelo: Random Forest\n",
            "Métricas de entrenamiento >> \n",
            "RMSE promedio: 0.287 (0.0119)\n",
            "MAE promedio: 0.196 (0.0075)\n",
            "MAPE promedio: 3.512 (0.1639)\n",
            "\n",
            "Métricas de validación >> \n",
            "RMSE promedio: 0.745 (0.0911)\n",
            "MAE promedio: 0.516 (0.0530)\n",
            "MAPE promedio: 9.247 (1.5085)\n",
            "\n",
            "Modelo: Perceptrón Multicapa\n",
            "Métricas de entrenamiento >> \n",
            "RMSE promedio: 0.743 (0.0287)\n",
            "MAE promedio: 0.536 (0.0269)\n",
            "MAPE promedio: 9.443 (0.5035)\n",
            "\n",
            "Métricas de validación >> \n",
            "RMSE promedio: 0.887 (0.0735)\n",
            "MAE promedio: 0.645 (0.0543)\n",
            "MAPE promedio: 11.349 (1.6278)\n",
            "\n"
          ]
        }
      ],
      "source": [
        "# Se cargan los modelos y nombres\n",
        "modelos, nombres = get_models()\n",
        "resultados = list()   \n",
        "\n",
        "ytvLog = my_log(ytv)\n",
        "y_testLog = my_log(y_test)\n",
        "\n",
        "\n",
        "for i in range(len(modelos)):\n",
        "\n",
        "  pipeline = make_pipeline((columnasTransformer),(modelos[i]))\n",
        "\n",
        "  cv = RepeatedKFold(n_splits=5, n_repeats=3, random_state=0)\n",
        "\n",
        "  mismetricas = {'RMSE': make_scorer(mi_rmse), 'MAE': make_scorer(mi_mae), 'MAPE' : make_scorer(mi_mape)}\n",
        "  scores = cross_validate(pipeline, Xtv, np.ravel(ytvLog), scoring=mismetricas, cv=cv, return_train_score=True)\n",
        "  resultados.append(scores)\n",
        "\n",
        "  print(\"Modelo: %s\" % nombres[i])\n",
        "  print('Métricas de entrenamiento >> \\nRMSE promedio: %.3f (%.4f)\\nMAE promedio: %.3f (%.4f)\\nMAPE promedio: %.3f (%.4f)\\n' % (\n",
        "                                                                                                                    np.mean(scores['train_RMSE']),\n",
        "                                                                                                                    np.std(scores['train_RMSE']),\n",
        "                                                                                                                    np.mean(scores['train_MAE']),\n",
        "                                                                                                                    np.std(scores['train_MAE']), \n",
        "                                                                                                                    np.mean(scores['train_MAPE']),\n",
        "                                                                                                                    np.std(scores['train_MAPE'])\n",
        "                                                                                                                    ))\n",
        "  \n",
        "  print('Métricas de validación >> \\nRMSE promedio: %.3f (%.4f)\\nMAE promedio: %.3f (%.4f)\\nMAPE promedio: %.3f (%.4f)\\n' % (\n",
        "                                                                                                                    np.mean(scores['test_RMSE']),\n",
        "                                                                                                                    np.std(scores['test_RMSE']),\n",
        "                                                                                                                    np.mean(scores['test_MAE']),\n",
        "                                                                                                                    np.std(scores['test_MAE']), \n",
        "                                                                                                                    np.mean(scores['test_MAPE']),\n",
        "                                                                                                                    np.std(scores['test_MAPE'])\n",
        "                                                                                                                    ))"
      ]
    },
    {
      "cell_type": "markdown",
      "source": [
        "1. **Regresión lineal** los valores de la métrica del conjunto de entrenamiento son menores, es decir obtenemos un mejor ajuste en este conjunto pero con una diferencia pequeña, podemos concluir que el modeo tiene quezá un error asociado a la varianza de los datos, donde éste puede mitigarse agregando más datos en el entrenamiento para que el modelo siga aprendiendo, no obstante aun los valores que se obtienen en el conjunto de validación son aceptables estadísticamente tomando en cuenta que los modelos siempre tienen un error irreducible (ruido natural de los datos) por lo tanto este podría ser un buen modelo para la clasificación de los datos que como se menciona anteriormente posible mejorar.\n",
        "\n",
        "\n",
        "2. **Random Forest** Este modelo tiene una mejora significativa entre el conjunto de entrenamiento y validación, la diferencia entre las medidas obtenidas en los conjuntos son grandes, podriamos concluir en este caso que el modelo está generalizando la información de los datos bastante bien, no obstante el modelo de regresión se mantiene con mejor RMSE y MAE.\n",
        "\n",
        "\n",
        "3. **Perceptrón Multicapa** Los resultados obtenidos son parecidos a los que se tienen en la regresión lineal, es decir los valores entre el conjunto de entrenamiento y validación son similares, siendo mejores en el conjunto de validación pero aun así con posibilidad de mejorar, sin embargo es importante mencionar que los puntajes siguen siendo mejores en a regresión lineal que en el perceptrón muticapa.\n",
        "\n",
        "\n",
        "Finalmente en base al error porcentual absoluto medio (MAPE) (debido a que es una métrica sencilla y de fácil interpretación ya que expresa la exactitud como un porcentaje) tenemos lo siguiente:\n",
        "\n",
        "\n",
        "*   MAPE de la regresión lineal 9.3 \n",
        "*   MAPE de Random Forest 9.2\n",
        "*   MAPE del perceptrón multicapa 11.3\n",
        "\n",
        "Podemos inferir que Random Forest es el modelo con el que se obtienen las mejores predicciones reduciendo el error en un 2% respecto al perceptrón multicapa y es mejor que el modelo de regresión lineal por 0.1%."
      ],
      "metadata": {
        "id": "x4BVs0eYVKX1"
      }
    },
    {
      "cell_type": "markdown",
      "metadata": {
        "id": "iCNGx4TQ8CFI"
      },
      "source": [
        "#**Ejercicio-7.**"
      ]
    },
    {
      "cell_type": "markdown",
      "source": [
        "**Obtener los diagramas de caja y bigote para los errores MAPE de los conjuntos de validación obtenidos.**"
      ],
      "metadata": {
        "id": "jKWaFn1ggnc2"
      }
    },
    {
      "cell_type": "code",
      "execution_count": null,
      "metadata": {
        "colab": {
          "base_uri": "https://localhost:8080/",
          "height": 453
        },
        "id": "ewvwUcJX78y1",
        "outputId": "35d24e98-01d2-4a02-a387-8aa03916cf92"
      },
      "outputs": [
        {
          "output_type": "display_data",
          "data": {
            "text/plain": [
              "<Figure size 640x480 with 1 Axes>"
            ],
            "image/png": "[encoded data removed]"
          },
          "metadata": {}
        }
      ],
      "source": [
        "# Diagrama de caja y bigotes\n",
        "# Validación\n",
        "mape_r = list()\n",
        "for i in range(len(resultados)):\n",
        "  rr = resultados[i]['test_MAPE']\n",
        "  mape_r.append(rr)\n",
        "plt.boxplot(mape_r, labels = nombres, showmeans = True)\n",
        "plt.title('Validación')\n",
        "plt.show()"
      ]
    },
    {
      "cell_type": "markdown",
      "source": [
        "En el artículo de Moro, S., Rita, P., & Vala, B menciona en sus conclusiones que los mejores rendimeinto obtenidos son con un porcentaje de error absoluto medio del 27,2% y del 26,9%, respectivamente y comparando con los primeros resultados obtenidos en este ejecicio observamos que están muy por arriba de los obtenidos en este ejercicio, pero recordemos que este ejercicio trabaja con una muestra de los datos mientras que los autores del artículo usan el todal de los datos."
      ],
      "metadata": {
        "id": "umKeNjxBjuq6"
      }
    },
    {
      "cell_type": "markdown",
      "metadata": {
        "id": "tzQn5NR78GFg"
      },
      "source": [
        "#**Ejercicio-8.**"
      ]
    },
    {
      "cell_type": "markdown",
      "source": [
        "**Busca los mejores hiperparámetros para el modelo MLP. Al menos deberás realizar la búsqueda en los hiperparámetros “hidden_layer_sizes”, “alpha” y “learning_rate_init”.**"
      ],
      "metadata": {
        "id": "7uoQH8SNq0Kj"
      }
    },
    {
      "cell_type": "code",
      "execution_count": null,
      "metadata": {
        "colab": {
          "base_uri": "https://localhost:8080/"
        },
        "id": "EBKcp0278IQV",
        "outputId": "7a9297d6-d44d-4b60-a8aa-2c891cc46243"
      },
      "outputs": [
        {
          "output_type": "stream",
          "name": "stdout",
          "text": [
            "Mejores hiperparámetros encontrados:\n",
            "{'MLP__activation': 'tanh', 'MLP__alpha': 0.001, 'MLP__hidden_layer_sizes': (10, 10, 10), 'MLP__learning_rate': 'adaptive', 'MLP__learning_rate_init': 1e-05, 'MLP__max_iter': 200, 'MLP__solver': 'adam'}\n",
            "Mejor desempeño (MAPE): 109.15143025257086\n"
          ]
        }
      ],
      "source": [
        "# Crea el Pipeline con el ColumnTransformer y el modelo.\n",
        "pipe = Pipeline(steps=[\n",
        "    ('preprocessor', columnasTransformer),\n",
        "    ('MLP', MLPRegressor())\n",
        "])\n",
        "\n",
        "# Definir los hiperparámetros a buscar\n",
        "param_grid ={\n",
        "   'MLP__hidden_layer_sizes': [(100,),(10,10,10)],\n",
        "   'MLP__alpha': [0.0001,0.001],\n",
        "   'MLP__learning_rate_init':[0.001,0.00001,0.000001],\n",
        "   'MLP__max_iter': [200,10000],\n",
        "   'MLP__activation': ['tanh', 'relu'],\n",
        "   'MLP__solver':['sgd','adam'],\n",
        "   'MLP__learning_rate':['constant','adaptive'] \n",
        "}\n",
        "\n",
        "# Realizar la búsqueda de hiperparámetros utilizando GridSearchCV\n",
        "grid_search = GridSearchCV(pipe, param_grid, scoring=make_scorer(mi_mape), cv=5, n_jobs=-1)\n",
        "grid_search.fit(Xtv, ytvLog)\n",
        "\n",
        "# Obtener los mejores parámetros y el mejor score\n",
        "best_params_MLP = grid_search.best_params_\n",
        "best_score_MLP = grid_search.best_score_\n",
        "\n",
        "# Imprimir los resultados\n",
        "print(\"Mejores hiperparámetros encontrados:\")\n",
        "print(best_params_MLP)\n",
        "print(\"Mejor desempeño (MAPE):\", best_score_MLP)"
      ]
    },
    {
      "cell_type": "markdown",
      "metadata": {
        "id": "mASNrZWs8JTh"
      },
      "source": [
        "#**Ejercicio-9.**"
      ]
    },
    {
      "cell_type": "markdown",
      "source": [
        "**Con los mejores valores de los hiperparámetros encontrados realiza un análisis de la importancia de los factores**"
      ],
      "metadata": {
        "id": "B9Pl9DRUq_n2"
      }
    },
    {
      "cell_type": "code",
      "execution_count": null,
      "metadata": {
        "colab": {
          "base_uri": "https://localhost:8080/",
          "height": 1000
        },
        "id": "X6HJP9hb8LCp",
        "outputId": "524fc687-9a8c-4d66-9798-0fbce2d0c829"
      },
      "outputs": [
        {
          "output_type": "stream",
          "name": "stdout",
          "text": [
            "Feature: 0, Score: 0.00039\n",
            "Feature: 1, Score: 0.02957\n",
            "Feature: 2, Score: -0.00418\n",
            "Feature: 3, Score: 0.00871\n",
            "Feature: 4, Score: -0.00659\n",
            "Feature: 5, Score: -0.06494\n",
            "Feature: 6, Score: 0.03026\n",
            "Feature: 7, Score: -0.00630\n",
            "Feature: 8, Score: -0.03627\n",
            "Feature: 9, Score: -0.03921\n",
            "Feature: 10, Score: -0.03269\n",
            "Feature: 11, Score: -0.03896\n",
            "Feature: 12, Score: -0.03712\n",
            "Feature: 13, Score: -0.00116\n",
            "Feature: 14, Score: 0.00018\n",
            "Feature: 15, Score: -0.00008\n",
            "Feature: 16, Score: 0.00413\n",
            "Feature: 17, Score: -0.01207\n",
            "Feature: 18, Score: -0.01444\n",
            "Feature: 19, Score: 0.02717\n",
            "Feature: 20, Score: 0.00967\n",
            "Feature: 21, Score: 0.03581\n",
            "Feature: 22, Score: 0.00351\n",
            "Feature: 23, Score: 0.00670\n",
            "Feature: 24, Score: 0.00538\n",
            "Feature: 25, Score: 0.00469\n",
            "Feature: 26, Score: 0.01326\n",
            "Feature: 27, Score: 0.01369\n",
            "Feature: 28, Score: 0.00157\n",
            "Feature: 29, Score: 0.00157\n",
            "Feature: 30, Score: 0.00608\n",
            "Feature: 31, Score: 0.00312\n",
            "Feature: 32, Score: 0.00589\n",
            "Feature: 33, Score: 0.03502\n",
            "Feature: 34, Score: 0.01515\n",
            "Feature: 35, Score: -0.01870\n",
            "Feature: 36, Score: 0.01641\n",
            "Feature: 37, Score: 0.00214\n",
            "Feature: 38, Score: -0.01036\n",
            "Feature: 39, Score: -0.00657\n",
            "Feature: 40, Score: -0.00334\n",
            "Feature: 41, Score: -0.00185\n",
            "Feature: 42, Score: 0.00376\n",
            "Feature: 43, Score: -0.00093\n"
          ]
        },
        {
          "output_type": "display_data",
          "data": {
            "text/plain": [
              "<Figure size 640x480 with 1 Axes>"
            ],
            "image/png": "[encoded data removed]"
          },
          "metadata": {}
        }
      ],
      "source": [
        "Xx = columnasTransformer.fit_transform(Xtv)\n",
        "\n",
        "modelo_MLP = MLPRegressor(hidden_layer_sizes=best_params_MLP['MLP__hidden_layer_sizes'],\n",
        "                          max_iter=best_params_MLP['MLP__max_iter'],\n",
        "                          alpha=best_params_MLP['MLP__alpha'],\n",
        "                          learning_rate_init=best_params_MLP['MLP__learning_rate_init'],\n",
        "                          activation=best_params_MLP['MLP__activation'],\n",
        "                          solver=best_params_MLP['MLP__solver'],\n",
        "                          learning_rate=best_params_MLP['MLP__learning_rate'])\n",
        "\n",
        "modelo_MLP.fit(Xx.toarray(), np.ravel(ytvLog))\n",
        "\n",
        "importance_MLP = permutation_importance(modelo_MLP, Xx.toarray(), np.ravel(ytvLog), n_repeats=100)\n",
        "\n",
        "for i, v in enumerate(importance_MLP['importances_mean']):\n",
        "    print('Feature: %0d, Score: %.5f' % (i, v))\n",
        "\n",
        "plt.bar([x for x in range(len(importance_MLP['importances_mean']))], importance_MLP['importances_mean']),\n",
        "importance_MLP['importances_mean']\n",
        "plt.show()"
      ]
    },
    {
      "cell_type": "markdown",
      "source": [
        "Como el análisis se hace sobre los datos que tienen transformaciones, incluyendo el OneHotEncoding obtenemos 43 factores, y ninguno de ellos parece ser relevante ya que ninguno supera ni el 5% de relevancia."
      ],
      "metadata": {
        "id": "9iy4O_f_6aRC"
      }
    },
    {
      "cell_type": "markdown",
      "metadata": {
        "id": "VUIcDshs8MzG"
      },
      "source": [
        "#**Ejercicio-10.**"
      ]
    },
    {
      "cell_type": "markdown",
      "source": [
        "**Repite el ejercicio 8 y 9 para el modelo de bosque aleatorio para buscar sus mejores hiperparámetros**"
      ],
      "metadata": {
        "id": "44WfwoW1rRFr"
      }
    },
    {
      "cell_type": "code",
      "execution_count": null,
      "metadata": {
        "colab": {
          "base_uri": "https://localhost:8080/"
        },
        "id": "2y_OKmwkdb3v",
        "outputId": "74e9a327-58e0-4043-81e8-acb149e7b1c1"
      },
      "outputs": [
        {
          "output_type": "stream",
          "name": "stdout",
          "text": [
            "Mejores hiperparámetros encontrados:\n",
            "{'RF__n_estimators': 1400, 'RF__min_samples_split': 5, 'RF__min_samples_leaf': 2, 'RF__max_features': 'auto', 'RF__max_depth': 70, 'RF__bootstrap': False}\n",
            "Mejor desempeño (MAPE): 10.276334597879805\n"
          ]
        }
      ],
      "source": [
        "# Crea el Pipeline con el ColumnTransformer y el modelo.\n",
        "pipe = Pipeline(steps=[\n",
        "    ('preprocessor', columnasTransformer),\n",
        "    ('RF', RandomForestRegressor())\n",
        "])\n",
        "\n",
        "# Definir los hiperparámetros a buscar\n",
        "param_grid ={'RF__bootstrap': [True, False],\n",
        " 'RF__max_depth': [10, 20, 30, 40, 50, 60, 70, 80, 90, 100, None],\n",
        " 'RF__max_features': ['auto', 'sqrt'],\n",
        " 'RF__min_samples_leaf': [1, 2, 4],\n",
        " 'RF__min_samples_split': [2, 5, 10],\n",
        " 'RF__n_estimators': [200, 400, 600, 800, 1000, 1200, 1400, 1600, 1800, 2000]}\n",
        "\n",
        "# Realizar la búsqueda de hiperparámetros utilizando GridSearchCV\n",
        "#grid_search = GridSearchCV(pipe, param_grid, scoring=make_scorer(mi_mape), cv=5, n_jobs=-1)\n",
        "grid_search = RandomizedSearchCV(pipe, param_grid, scoring=make_scorer(mi_mape), cv=5, n_jobs=-1)\n",
        "\n",
        "grid_search.fit(Xtv, ytvLog)\n",
        "\n",
        "# Obtener los mejores parámetros y el mejor score\n",
        "best_params_RF = grid_search.best_params_\n",
        "best_score_RF = grid_search.best_score_\n",
        "\n",
        "# Imprimir los resultados\n",
        "print(\"Mejores hiperparámetros encontrados:\")\n",
        "print(best_params_RF)\n",
        "print(\"Mejor desempeño (MAPE):\", best_score_RF)"
      ]
    },
    {
      "cell_type": "code",
      "execution_count": null,
      "metadata": {
        "colab": {
          "base_uri": "https://localhost:8080/",
          "height": 1000
        },
        "id": "J3Mlae2sdb32",
        "outputId": "a311828f-fd31-4765-d504-909f4328f64f"
      },
      "outputs": [
        {
          "output_type": "stream",
          "name": "stdout",
          "text": [
            "Feature: 0, Score: 41205.15715\n",
            "Feature: 1, Score: -186565.59948\n",
            "Feature: 2, Score: -776.59343\n",
            "Feature: 3, Score: -186001.11204\n",
            "Feature: 4, Score: 9257.80589\n",
            "Feature: 5, Score: -35788.07751\n",
            "Feature: 6, Score: 51655.11169\n",
            "Feature: 7, Score: 10417.24055\n",
            "Feature: 8, Score: -33388.77380\n",
            "Feature: 9, Score: -3013.73439\n",
            "Feature: 10, Score: -1018.75591\n",
            "Feature: 11, Score: 391.93075\n",
            "Feature: 12, Score: -7924.26053\n",
            "Feature: 13, Score: 2827.36994\n",
            "Feature: 14, Score: 6905.86509\n",
            "Feature: 15, Score: 0.00000\n",
            "Feature: 16, Score: 0.00000\n",
            "Feature: 17, Score: 0.00000\n",
            "Feature: 18, Score: 3207.34590\n",
            "Feature: 19, Score: -9360.05697\n",
            "Feature: 20, Score: -5412.04486\n",
            "Feature: 21, Score: -5841.72331\n",
            "Feature: 22, Score: -11638.90244\n",
            "Feature: 23, Score: -992.55871\n",
            "Feature: 24, Score: -1173.55542\n",
            "Feature: 25, Score: 14257.69841\n",
            "Feature: 26, Score: -15840.62272\n",
            "Feature: 27, Score: 28883.50560\n",
            "Feature: 28, Score: -13926.93851\n",
            "Feature: 29, Score: -1102.15071\n",
            "Feature: 30, Score: 0.00000\n",
            "Feature: 31, Score: -1833.27985\n",
            "Feature: 32, Score: -32581.03589\n",
            "Feature: 33, Score: -7812.52650\n",
            "Feature: 34, Score: -3606.62393\n",
            "Feature: 35, Score: -5748.20291\n",
            "Feature: 36, Score: -21746.83614\n",
            "Feature: 37, Score: -2345.57153\n",
            "Feature: 38, Score: -699.51647\n",
            "Feature: 39, Score: -4054.09367\n",
            "Feature: 40, Score: -1092.20424\n",
            "Feature: 41, Score: 0.00000\n",
            "Feature: 42, Score: 0.00000\n",
            "Feature: 43, Score: 0.00000\n"
          ]
        },
        {
          "output_type": "display_data",
          "data": {
            "text/plain": [
              "<Figure size 640x480 with 1 Axes>"
            ],
            "image/png": "[encoded data removed]"
          },
          "metadata": {}
        }
      ],
      "source": [
        "Xx = columnasTransformer.fit_transform(Xtv)\n",
        "\n",
        "modelo_RF = RandomForestRegressor(bootstrap=best_params_RF['RF__bootstrap'],\n",
        "                                  max_depth = best_params_RF['RF__max_depth'],\n",
        "                                  max_features = best_params_RF['RF__max_features'],\n",
        "                                  min_samples_leaf = best_params_RF['RF__min_samples_leaf'],\n",
        "                                  min_samples_split = best_params_RF['RF__min_samples_split'],\n",
        "                                  n_estimators = best_params_RF['RF__n_estimators']\n",
        "    \n",
        "                                    )\n",
        "\n",
        "modelo_RF.fit(Xx.toarray(), np.ravel(ytv))\n",
        "\n",
        "importance_RF = permutation_importance(modelo_RF, Xx.toarray(), np.ravel(ytvLog), n_repeats=100)\n",
        "\n",
        "for i, v in enumerate(importance_RF['importances_mean']):\n",
        "    print('Feature: %0d, Score: %.5f' % (i, v))\n",
        "\n",
        "plt.bar([x for x in range(len(importance_RF['importances_mean']))], importance_RF['importances_mean']),\n",
        "importance_RF['importances_mean']\n",
        "plt.show()"
      ]
    },
    {
      "cell_type": "markdown",
      "metadata": {
        "id": "5LJl6oql8Pc8"
      },
      "source": [
        "#**Ejercicio-11.**"
      ]
    },
    {
      "cell_type": "markdown",
      "source": [
        "**Repite el ejercicio 8 y 9 para el modelo de regresión lineal múltiple para buscar sus mejores hiperparámetros (realiza la búsqueda con aquellos hiperparámetros que consideres más adecuados)**"
      ],
      "metadata": {
        "id": "vx-jlhhbrYsv"
      }
    },
    {
      "cell_type": "code",
      "execution_count": null,
      "metadata": {
        "colab": {
          "base_uri": "https://localhost:8080/"
        },
        "id": "-YiSnt9t8RfN",
        "outputId": "2666a9dd-0ba4-4f66-b689-686608e56251"
      },
      "outputs": [
        {
          "output_type": "stream",
          "name": "stdout",
          "text": [
            "Mejores hiperparámetros encontrados:\n",
            "{'LR__fit_intercept': False}\n",
            "Mejor desempeño (MAPE): 10.398147426855683\n"
          ]
        }
      ],
      "source": [
        "# Crea el Pipeline con el ColumnTransformer y el modelo.\n",
        "pipe = Pipeline(steps=[\n",
        "    ('preprocessor', columnasTransformer),\n",
        "    ('LR',LinearRegression())\n",
        "])\n",
        "\n",
        "\n",
        "# Definir los hiperparámetros a buscar\n",
        "param_grid ={'LR__fit_intercept': [True , False]\n",
        "            \n",
        "             \n",
        "             }\n",
        "\n",
        "# Realizar la búsqueda de hiperparámetros utilizando GridSearchCV\n",
        "grid_search = GridSearchCV(pipe, param_grid, scoring=make_scorer(mi_mape), cv=5, n_jobs=-1)\n",
        "grid_search.fit(Xtv, ytvLog)\n",
        "\n",
        "# Obtener los mejores parámetros y el mejor score\n",
        "best_params_LR= grid_search.best_params_\n",
        "best_score_LR = grid_search.best_score_\n",
        "\n",
        "# Imprimir los resultados\n",
        "print(\"Mejores hiperparámetros encontrados:\")\n",
        "print(best_params_LR)\n",
        "print(\"Mejor desempeño (MAPE):\", best_score_LR)\n",
        "\n"
      ]
    },
    {
      "cell_type": "code",
      "execution_count": null,
      "metadata": {
        "colab": {
          "base_uri": "https://localhost:8080/",
          "height": 1000
        },
        "id": "2iRA78ZC8Rbm",
        "outputId": "968d5643-345d-49d1-ce21-6ef80236d651"
      },
      "outputs": [
        {
          "output_type": "stream",
          "name": "stdout",
          "text": [
            "Feature: 0, Score: 0.54363\n",
            "Feature: 1, Score: 0.41865\n",
            "Feature: 2, Score: 0.00965\n",
            "Feature: 3, Score: 0.03901\n",
            "Feature: 4, Score: 0.19886\n",
            "Feature: 5, Score: 0.00029\n",
            "Feature: 6, Score: -0.00030\n",
            "Feature: 7, Score: 0.00092\n",
            "Feature: 8, Score: 0.02641\n",
            "Feature: 9, Score: 0.07050\n",
            "Feature: 10, Score: 0.02083\n",
            "Feature: 11, Score: 0.05177\n",
            "Feature: 12, Score: 0.15692\n",
            "Feature: 13, Score: 0.27062\n",
            "Feature: 14, Score: 0.19481\n",
            "Feature: 15, Score: 0.32187\n",
            "Feature: 16, Score: 0.71875\n",
            "Feature: 17, Score: 0.60225\n",
            "Feature: 18, Score: 0.69155\n",
            "Feature: 19, Score: 0.01162\n",
            "Feature: 20, Score: 0.01819\n",
            "Feature: 21, Score: 0.00967\n",
            "Feature: 22, Score: 0.02012\n",
            "Feature: 23, Score: 0.01335\n",
            "Feature: 24, Score: 0.00116\n",
            "Feature: 25, Score: 3.51557\n",
            "Feature: 26, Score: 8.59178\n",
            "Feature: 27, Score: 3.21954\n",
            "Feature: 28, Score: 1.73733\n",
            "Feature: 29, Score: 1.44551\n",
            "Feature: 30, Score: 1.12820\n",
            "Feature: 31, Score: 0.99680\n",
            "Feature: 32, Score: 2.86000\n",
            "Feature: 33, Score: 6.87230\n",
            "Feature: 34, Score: 4.08563\n",
            "Feature: 35, Score: 2.81826\n",
            "Feature: 36, Score: 4.92081\n",
            "Feature: 37, Score: 1.43752\n",
            "Feature: 38, Score: 0.74583\n",
            "Feature: 39, Score: 0.46770\n",
            "Feature: 40, Score: 0.38688\n",
            "Feature: 41, Score: 0.07468\n",
            "Feature: 42, Score: 0.11795\n",
            "Feature: 43, Score: 0.09898\n"
          ]
        },
        {
          "output_type": "display_data",
          "data": {
            "text/plain": [
              "<Figure size 640x480 with 1 Axes>"
            ],
            "image/png": "[encoded data removed]"
          },
          "metadata": {}
        }
      ],
      "source": [
        "Xx = columnasTransformer.fit_transform(Xtv)\n",
        "\n",
        "modelo_LR = LinearRegression(fit_intercept = best_params_LR['LR__fit_intercept'],\n",
        "                                   n_jobs = -1\n",
        "                                    )\n",
        "\n",
        "modelo_LR.fit(Xx.toarray(), np.ravel(ytvLog))\n",
        "\n",
        "importance_LR = permutation_importance(modelo_LR, Xx.toarray(), np.ravel(ytvLog), n_repeats=100)\n",
        "\n",
        "for i, v in enumerate(importance_LR['importances_mean']):\n",
        "    print('Feature: %0d, Score: %.5f' % (i, v))\n",
        "\n",
        "plt.bar([x for x in range(len(importance_LR['importances_mean']))], importance_LR['importances_mean']),\n",
        "importance_RF['importances_mean']\n",
        "plt.show()"
      ]
    },
    {
      "cell_type": "markdown",
      "metadata": {
        "id": "IKW72uyk8Sbc"
      },
      "source": [
        "#**Ejercicio-12.**"
      ]
    },
    {
      "cell_type": "markdown",
      "source": [
        "**Compara tus resultados con los obtenidos por los autores del artículo de Moro-Rita-Vala con respecto a MAPE. Incluye tus conclusiones finales de la actividad.**"
      ],
      "metadata": {
        "id": "aGmft907rdaZ"
      }
    },
    {
      "cell_type": "markdown",
      "source": [
        "Como se mencionó anteriormente el modelo de **Random Forest** fue el que mostró mejores valores de las métricas en el conjunto de validación en comparación con el modelo de **Regresión Lineal** ya que si bien las métricas del conjunto de validación son similares al Random Forest, en este último son un poco mejores, por otro lado **Perceptrón Multicapa** los valores de sus métricas entre el conjunto de entrenamiento y validación son similares a los de la regresión lineal, siendo mejores en el entrenamiento pero aun así aceptables y con posibilidad de mejorar, sin embargo es importante mencionar que los puntajes son mejores en  el Random Forest.\n",
        "\n",
        "En todos los casos, podemos concluir que se tiene quizá un error asociado a la varianza de los datos, donde éste puede mitigarse agregando más datos en el entrenamiento para que los modelos sigan aprendiendo, tomando en cuenta que los modelos siempre tienen un error irreducible (ruido natural de los datos).\n",
        "\n",
        "Comparando con el resultado del artículo de de Moro, S., Rita, P., & Vala, B con el Random Forest y la Regresión Lineal de este ejercicio tenemos un porcentaje de error absoluto medio (MAPE) de 9.2% y 9.3% vs 27,2% y del 26,9% del artículo, con esto observamos que los resultados del artículo están muy por arriba de los obtenidos en este ejercicio, es decir, podríamos pensar que nuestros modelos están sobreentrenados, no obstante es importante menciocnar que este ejercicio trabaja con una muestra de los datos mientras que los autores del artículo usan el todal de la información, y muy probablemente la varianza que aportan los datos que no tenemos son los que incrementan el error a 27.2 y 26.9 pero respecto al sesgo creemos que ambos ejercicios tienen modelos que tienen un buen desempeño."
      ],
      "metadata": {
        "id": "_1mA9h51LqA0"
      }
    },
    {
      "cell_type": "markdown",
      "metadata": {
        "id": "7ql_r2G-DB_m"
      },
      "source": [
        "###**Fin de la Actividad de la semana 7.**"
      ]
    },
    {
      "cell_type": "code",
      "source": [],
      "metadata": {
        "id": "cIOCX0puUgT-"
      },
      "execution_count": null,
      "outputs": []
    }
  ],
  "metadata": {
    "celltoolbar": "Tags",
    "colab": {
      "provenance": [],
      "include_colab_link": true
    },
    "kernelspec": {
      "display_name": "Python 3 (ipykernel)",
      "language": "python",
      "name": "python3"
    },
    "language_info": {
      "codemirror_mode": {
        "name": "ipython",
        "version": 3
      },
      "file_extension": ".py",
      "mimetype": "text/x-python",
      "name": "python",
      "nbconvert_exporter": "python",
      "pygments_lexer": "ipython3",
      "version": "3.9.7"
    }
  },
  "nbformat": 4,
  "nbformat_minor": 0
}