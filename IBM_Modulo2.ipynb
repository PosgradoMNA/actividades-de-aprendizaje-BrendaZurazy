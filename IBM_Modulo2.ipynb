{
  "nbformat": 4,
  "nbformat_minor": 0,
  "metadata": {
    "colab": {
      "provenance": [],
      "collapsed_sections": [],
      "authorship_tag": "ABX9TyNrQUOqRVGewt1HGod7X0cR",
      "include_colab_link": true
    },
    "kernelspec": {
      "name": "python3",
      "display_name": "Python 3"
    },
    "language_info": {
      "name": "python"
    }
  },
  "cells": [
    {
      "cell_type": "markdown",
      "metadata": {
        "id": "view-in-github",
        "colab_type": "text"
      },
      "source": [
        "<a href=\"https://colab.research.google.com/github/PosgradoMNA/actividades-de-aprendizaje-BrendaZurazy/blob/main/IBM_Modulo2.ipynb\" target=\"_parent\"><img src=\"https://colab.research.google.com/assets/colab-badge.svg\" alt=\"Open In Colab\"/></a>"
      ]
    },
    {
      "cell_type": "markdown",
      "source": [
        "# Python for Data Science (IBM)\n",
        "## Módulo 2"
      ],
      "metadata": {
        "id": "i2fN-797nU9S"
      }
    },
    {
      "cell_type": "markdown",
      "source": [
        "### Listas y Tuplas"
      ],
      "metadata": {
        "id": "wa7yV_ZG0i0l"
      }
    },
    {
      "cell_type": "markdown",
      "source": [
        "La tuplas son una secuencia ordenada de datos, se definene entre parentesis y con comas que separe a los datos. Una vez difinidas no se puede cambiar"
      ],
      "metadata": {
        "id": "SHJSLt-L0p60"
      }
    },
    {
      "cell_type": "code",
      "source": [
        "Tupla =(1.2,\"tupla 1\", 3.1416)\n",
        "Tupla"
      ],
      "metadata": {
        "colab": {
          "base_uri": "https://localhost:8080/"
        },
        "id": "5q4fgaEr0-kc",
        "outputId": "babf06d7-5fe5-4e5e-f935-5a5de2bf50e6"
      },
      "execution_count": 1,
      "outputs": [
        {
          "output_type": "execute_result",
          "data": {
            "text/plain": [
              "(1.2, 'tupla 1', 3.1416)"
            ]
          },
          "metadata": {},
          "execution_count": 1
        }
      ]
    },
    {
      "cell_type": "code",
      "source": [
        "#Se puede tener acceso a cada uno de los elementos de cada tupla\n",
        "Tupla[0]"
      ],
      "metadata": {
        "colab": {
          "base_uri": "https://localhost:8080/"
        },
        "id": "m3-17h1O1KH9",
        "outputId": "ac296b1d-be4b-440d-93d1-9262ff14cc6d"
      },
      "execution_count": 4,
      "outputs": [
        {
          "output_type": "execute_result",
          "data": {
            "text/plain": [
              "1.2"
            ]
          },
          "metadata": {},
          "execution_count": 4
        }
      ]
    },
    {
      "cell_type": "code",
      "source": [
        "Tupla[1]"
      ],
      "metadata": {
        "colab": {
          "base_uri": "https://localhost:8080/",
          "height": 35
        },
        "id": "a8E34Wti1SHL",
        "outputId": "f9c82caa-35c9-4b40-97f3-8d10d4d7babe"
      },
      "execution_count": 5,
      "outputs": [
        {
          "output_type": "execute_result",
          "data": {
            "text/plain": [
              "'tupla 1'"
            ],
            "application/vnd.google.colaboratory.intrinsic+json": {
              "type": "string"
            }
          },
          "metadata": {},
          "execution_count": 5
        }
      ]
    },
    {
      "cell_type": "code",
      "source": [
        "Tupla[2]"
      ],
      "metadata": {
        "colab": {
          "base_uri": "https://localhost:8080/"
        },
        "id": "DIJnaK8i1Z91",
        "outputId": "65f7243d-efc9-4d3a-8680-2e48e05744dc"
      },
      "execution_count": 6,
      "outputs": [
        {
          "output_type": "execute_result",
          "data": {
            "text/plain": [
              "3.1416"
            ]
          },
          "metadata": {},
          "execution_count": 6
        }
      ]
    },
    {
      "cell_type": "code",
      "source": [
        "#Para obtener la longitud de una tupla se una la función len\n",
        "len(Tupla)"
      ],
      "metadata": {
        "colab": {
          "base_uri": "https://localhost:8080/"
        },
        "id": "gGHl_GXB1bp2",
        "outputId": "e3b2bf05-aa4c-405c-c2ac-7f340f720028"
      },
      "execution_count": 7,
      "outputs": [
        {
          "output_type": "execute_result",
          "data": {
            "text/plain": [
              "3"
            ]
          },
          "metadata": {},
          "execution_count": 7
        }
      ]
    },
    {
      "cell_type": "code",
      "source": [
        "#Para ordenar la tupla se usa sorted\n",
        "tupla_num=(3.1416,2,7182)\n",
        "tupla_ord=sorted(tupla_num)"
      ],
      "metadata": {
        "colab": {
          "base_uri": "https://localhost:8080/"
        },
        "id": "gxsGABOw2tCW",
        "outputId": "20b7e702-35aa-42f9-bc2a-f5943740a4b6"
      },
      "execution_count": 11,
      "outputs": [
        {
          "output_type": "execute_result",
          "data": {
            "text/plain": [
              "[2, 3.1416, 7182]"
            ]
          },
          "metadata": {},
          "execution_count": 11
        }
      ]
    },
    {
      "cell_type": "code",
      "source": [
        "tupla_num"
      ],
      "metadata": {
        "colab": {
          "base_uri": "https://localhost:8080/"
        },
        "id": "VCdaGZLl3Ebc",
        "outputId": "9547c1c1-4aa3-42f4-b2ed-dfb30e203427"
      },
      "execution_count": 12,
      "outputs": [
        {
          "output_type": "execute_result",
          "data": {
            "text/plain": [
              "(3.1416, 2, 7182)"
            ]
          },
          "metadata": {},
          "execution_count": 12
        }
      ]
    },
    {
      "cell_type": "code",
      "source": [
        "tupla_ord"
      ],
      "metadata": {
        "colab": {
          "base_uri": "https://localhost:8080/"
        },
        "id": "MhQVXE6b3e2w",
        "outputId": "a6f088ea-1a2d-414d-9c3d-797ff7f7b88c"
      },
      "execution_count": 13,
      "outputs": [
        {
          "output_type": "execute_result",
          "data": {
            "text/plain": [
              "[2, 3.1416, 7182]"
            ]
          },
          "metadata": {},
          "execution_count": 13
        }
      ]
    },
    {
      "cell_type": "code",
      "source": [
        "#Anidando tuplas\n",
        "tupla_anidada=(1,5,6,(\"pi\",\"e\"), (111,777))"
      ],
      "metadata": {
        "id": "-AtE4upB33HM"
      },
      "execution_count": 14,
      "outputs": []
    },
    {
      "cell_type": "code",
      "source": [
        "tupla_anidada"
      ],
      "metadata": {
        "colab": {
          "base_uri": "https://localhost:8080/"
        },
        "id": "2-HxBZoN4K8u",
        "outputId": "4f9b6ba0-c65d-4295-d9e1-32fd68d9e3a0"
      },
      "execution_count": 15,
      "outputs": [
        {
          "output_type": "execute_result",
          "data": {
            "text/plain": [
              "(1, 5, 6, ('pi', 'e'), (111, 777))"
            ]
          },
          "metadata": {},
          "execution_count": 15
        }
      ]
    },
    {
      "cell_type": "code",
      "source": [
        "#Accediento a elementos de tuplas anidadas a diferentes niveles\n",
        "tupla_anidada[1]"
      ],
      "metadata": {
        "colab": {
          "base_uri": "https://localhost:8080/"
        },
        "id": "RWvIBiXn4NUX",
        "outputId": "71c6f45e-a3a4-4ebb-c3b4-a82117c5cd42"
      },
      "execution_count": 17,
      "outputs": [
        {
          "output_type": "execute_result",
          "data": {
            "text/plain": [
              "5"
            ]
          },
          "metadata": {},
          "execution_count": 17
        }
      ]
    },
    {
      "cell_type": "code",
      "source": [
        "tupla_anidada[4]"
      ],
      "metadata": {
        "colab": {
          "base_uri": "https://localhost:8080/"
        },
        "id": "ZMJK6F6G4l05",
        "outputId": "f5b30dcb-0901-40b4-a83b-c10feb3b77e9"
      },
      "execution_count": 18,
      "outputs": [
        {
          "output_type": "execute_result",
          "data": {
            "text/plain": [
              "(111, 777)"
            ]
          },
          "metadata": {},
          "execution_count": 18
        }
      ]
    },
    {
      "cell_type": "code",
      "source": [
        "tupla_anidada[4][0]"
      ],
      "metadata": {
        "colab": {
          "base_uri": "https://localhost:8080/"
        },
        "id": "R13UMvIE41pr",
        "outputId": "5ff493a0-ecb4-4fda-909d-3cb17391bd9b"
      },
      "execution_count": 21,
      "outputs": [
        {
          "output_type": "execute_result",
          "data": {
            "text/plain": [
              "111"
            ]
          },
          "metadata": {},
          "execution_count": 21
        }
      ]
    },
    {
      "cell_type": "code",
      "source": [
        "tupla_anidada[3]"
      ],
      "metadata": {
        "colab": {
          "base_uri": "https://localhost:8080/"
        },
        "id": "G2hGPGnS5z4k",
        "outputId": "574a9c55-ef17-4842-b40a-fd832160e407"
      },
      "execution_count": 22,
      "outputs": [
        {
          "output_type": "execute_result",
          "data": {
            "text/plain": [
              "('pi', 'e')"
            ]
          },
          "metadata": {},
          "execution_count": 22
        }
      ]
    },
    {
      "cell_type": "code",
      "source": [
        "tupla_anidada[3][0]"
      ],
      "metadata": {
        "colab": {
          "base_uri": "https://localhost:8080/",
          "height": 35
        },
        "id": "PgezgYd453EE",
        "outputId": "98509da3-6680-4cae-e2d5-951414ea92b4"
      },
      "execution_count": 23,
      "outputs": [
        {
          "output_type": "execute_result",
          "data": {
            "text/plain": [
              "'pi'"
            ],
            "application/vnd.google.colaboratory.intrinsic+json": {
              "type": "string"
            }
          },
          "metadata": {},
          "execution_count": 23
        }
      ]
    },
    {
      "cell_type": "code",
      "source": [
        "tupla_anidada[3][0][1]"
      ],
      "metadata": {
        "colab": {
          "base_uri": "https://localhost:8080/",
          "height": 35
        },
        "id": "oVeuQDCU561k",
        "outputId": "e1719458-0e6a-4970-d9b3-cfebf5fcf343"
      },
      "execution_count": 24,
      "outputs": [
        {
          "output_type": "execute_result",
          "data": {
            "text/plain": [
              "'i'"
            ],
            "application/vnd.google.colaboratory.intrinsic+json": {
              "type": "string"
            }
          },
          "metadata": {},
          "execution_count": 24
        }
      ]
    },
    {
      "cell_type": "markdown",
      "source": [
        "Las listas tambien son un una secuencia de datos, sin embargo en ellas si se pueden reemplazar valores  diferencia de una tupla. Las listas se definene entre corchetes y con comas."
      ],
      "metadata": {
        "id": "rq6NbWKc5FXR"
      }
    },
    {
      "cell_type": "code",
      "source": [
        "lista=[2.7182, \"Hermes\", \"Apolo\", 3.1426]\n",
        "lista"
      ],
      "metadata": {
        "colab": {
          "base_uri": "https://localhost:8080/"
        },
        "id": "oPQKyt5D56EM",
        "outputId": "586e2d7f-f0ad-410f-8495-ef648eb1442d"
      },
      "execution_count": 68,
      "outputs": [
        {
          "output_type": "execute_result",
          "data": {
            "text/plain": [
              "[2.7182, 'Hermes', 'Apolo', 3.1426]"
            ]
          },
          "metadata": {},
          "execution_count": 68
        }
      ]
    },
    {
      "cell_type": "code",
      "source": [
        "#Para acceder a parte de la lista\n",
        "lista[1:3]"
      ],
      "metadata": {
        "colab": {
          "base_uri": "https://localhost:8080/"
        },
        "id": "poaC1Enn6xf7",
        "outputId": "370c4401-59cf-4da9-e778-5918100dd42d"
      },
      "execution_count": 69,
      "outputs": [
        {
          "output_type": "execute_result",
          "data": {
            "text/plain": [
              "['Hermes', 'Apolo']"
            ]
          },
          "metadata": {},
          "execution_count": 69
        }
      ]
    },
    {
      "cell_type": "code",
      "source": [
        "#Concatenar listas con +\n",
        "lista + [\"Atenea\"]"
      ],
      "metadata": {
        "colab": {
          "base_uri": "https://localhost:8080/"
        },
        "id": "g_xWvAh465Qt",
        "outputId": "71eb5b4a-fadd-46fe-fa95-c34b59d63122"
      },
      "execution_count": 70,
      "outputs": [
        {
          "output_type": "execute_result",
          "data": {
            "text/plain": [
              "[2.7182, 'Hermes', 'Apolo', 3.1426, 'Atenea']"
            ]
          },
          "metadata": {},
          "execution_count": 70
        }
      ]
    },
    {
      "cell_type": "code",
      "source": [
        "lista.extend([\"Afrodita\", \"Era\"])"
      ],
      "metadata": {
        "id": "OTm6s07Y7WAo"
      },
      "execution_count": 71,
      "outputs": []
    },
    {
      "cell_type": "code",
      "source": [
        "#Para crear listas anidades se utiliza la función append\n",
        "lista.append([\"Ades\",\"Dionisio\"])\n"
      ],
      "metadata": {
        "id": "T0zwTZC68gt9"
      },
      "execution_count": 72,
      "outputs": []
    },
    {
      "cell_type": "code",
      "source": [
        "lista"
      ],
      "metadata": {
        "colab": {
          "base_uri": "https://localhost:8080/"
        },
        "id": "8iyIphhg85Ox",
        "outputId": "06363fb7-8a5b-44a6-c83f-47ede072da56"
      },
      "execution_count": 73,
      "outputs": [
        {
          "output_type": "execute_result",
          "data": {
            "text/plain": [
              "[2.7182, 'Hermes', 'Apolo', 3.1426, 'Afrodita', 'Era', ['Ades', 'Dionisio']]"
            ]
          },
          "metadata": {},
          "execution_count": 73
        }
      ]
    },
    {
      "cell_type": "code",
      "source": [
        "#Cambiando elementos de una lista\n",
        "lista[1]=\"Mercurio\""
      ],
      "metadata": {
        "id": "6xtFpP8n9XPg"
      },
      "execution_count": 74,
      "outputs": []
    },
    {
      "cell_type": "code",
      "source": [
        "lista"
      ],
      "metadata": {
        "colab": {
          "base_uri": "https://localhost:8080/"
        },
        "id": "FhyULxSi9XVn",
        "outputId": "29de5f4f-7f25-4463-f9ea-e8d4d064ab11"
      },
      "execution_count": 75,
      "outputs": [
        {
          "output_type": "execute_result",
          "data": {
            "text/plain": [
              "[2.7182, 'Mercurio', 'Apolo', 3.1426, 'Afrodita', 'Era', ['Ades', 'Dionisio']]"
            ]
          },
          "metadata": {},
          "execution_count": 75
        }
      ]
    },
    {
      "cell_type": "code",
      "source": [
        "#Para borrar elementos de una lista se usa la función del\n",
        "del(lista[0])"
      ],
      "metadata": {
        "id": "gKlnjcGh92G3"
      },
      "execution_count": 76,
      "outputs": []
    },
    {
      "cell_type": "code",
      "source": [
        "lista"
      ],
      "metadata": {
        "colab": {
          "base_uri": "https://localhost:8080/"
        },
        "id": "dzeSYEXI9_Wg",
        "outputId": "1f9819b8-7c35-4df5-ee09-8328ddd65d42"
      },
      "execution_count": 77,
      "outputs": [
        {
          "output_type": "execute_result",
          "data": {
            "text/plain": [
              "['Mercurio', 'Apolo', 3.1426, 'Afrodita', 'Era', ['Ades', 'Dionisio']]"
            ]
          },
          "metadata": {},
          "execution_count": 77
        }
      ]
    },
    {
      "cell_type": "code",
      "source": [
        "del(lista[2])"
      ],
      "metadata": {
        "id": "rat3rCgk-An7"
      },
      "execution_count": 78,
      "outputs": []
    },
    {
      "cell_type": "code",
      "source": [
        "lista"
      ],
      "metadata": {
        "colab": {
          "base_uri": "https://localhost:8080/"
        },
        "id": "4pSu4tvz-Mfi",
        "outputId": "dadc6f85-7e94-40e3-bfb3-277e11d74c94"
      },
      "execution_count": 79,
      "outputs": [
        {
          "output_type": "execute_result",
          "data": {
            "text/plain": [
              "['Mercurio', 'Apolo', 'Afrodita', 'Era', ['Ades', 'Dionisio']]"
            ]
          },
          "metadata": {},
          "execution_count": 79
        }
      ]
    },
    {
      "cell_type": "markdown",
      "source": [
        "###Conjuntos"
      ],
      "metadata": {
        "id": "Y9i7XB5mHo3x"
      }
    },
    {
      "cell_type": "code",
      "source": [
        "#Se pueden convertir listas y tuples a conjuntos con la función set()\n",
        "peliculas = [\"Toy Story\",\"Enredados\",\"Piratas de caribe\"]\n",
        "A =set(peliculas)\n",
        "A"
      ],
      "metadata": {
        "colab": {
          "base_uri": "https://localhost:8080/"
        },
        "id": "dCp19dVmHt7_",
        "outputId": "4a894c35-26db-4f99-ef57-64eee0a4708e"
      },
      "execution_count": 89,
      "outputs": [
        {
          "output_type": "execute_result",
          "data": {
            "text/plain": [
              "{'Enredados', 'Piratas de caribe', 'Toy Story'}"
            ]
          },
          "metadata": {},
          "execution_count": 89
        }
      ]
    },
    {
      "cell_type": "code",
      "source": [
        "#Agregar elementos al conjunto\n",
        "A.add(\"Pockemon\")\n",
        "A"
      ],
      "metadata": {
        "colab": {
          "base_uri": "https://localhost:8080/"
        },
        "id": "3aSElFmuIU1l",
        "outputId": "e7c27a28-81b9-44a5-c10d-a4af7e986249"
      },
      "execution_count": 90,
      "outputs": [
        {
          "output_type": "execute_result",
          "data": {
            "text/plain": [
              "{'Enredados', 'Piratas de caribe', 'Pockemon', 'Toy Story'}"
            ]
          },
          "metadata": {},
          "execution_count": 90
        }
      ]
    },
    {
      "cell_type": "code",
      "source": [
        "#Quitar elementos del conjunto\n",
        "A.remove(\"Pockemon\")\n",
        "A"
      ],
      "metadata": {
        "colab": {
          "base_uri": "https://localhost:8080/"
        },
        "id": "S_42qDVyJJ6i",
        "outputId": "32828a53-654b-4fdb-b186-b8d0d91c2dd6"
      },
      "execution_count": 91,
      "outputs": [
        {
          "output_type": "execute_result",
          "data": {
            "text/plain": [
              "{'Enredados', 'Piratas de caribe', 'Toy Story'}"
            ]
          },
          "metadata": {},
          "execution_count": 91
        }
      ]
    },
    {
      "cell_type": "code",
      "source": [
        "#Resultados lógicos\n",
        "\"Pockemon\" in A"
      ],
      "metadata": {
        "colab": {
          "base_uri": "https://localhost:8080/"
        },
        "id": "olnYyxFbJXku",
        "outputId": "6ca1dfe1-d54b-4105-e3f6-f87420c9ab34"
      },
      "execution_count": 93,
      "outputs": [
        {
          "output_type": "execute_result",
          "data": {
            "text/plain": [
              "False"
            ]
          },
          "metadata": {},
          "execution_count": 93
        }
      ]
    },
    {
      "cell_type": "code",
      "source": [
        "\"Toy Story\" in A"
      ],
      "metadata": {
        "colab": {
          "base_uri": "https://localhost:8080/"
        },
        "id": "XsQMjHlxKBRI",
        "outputId": "43958bc4-0a83-4cd7-cb0a-01db09dd8304"
      },
      "execution_count": 94,
      "outputs": [
        {
          "output_type": "execute_result",
          "data": {
            "text/plain": [
              "True"
            ]
          },
          "metadata": {},
          "execution_count": 94
        }
      ]
    },
    {
      "cell_type": "code",
      "source": [
        "#Operaciones matemáticas\n",
        "B ={\"Enredados\",\"La Sirenita\", \"El libro de la selva\"}\n",
        "B"
      ],
      "metadata": {
        "colab": {
          "base_uri": "https://localhost:8080/"
        },
        "id": "yDqm5nuyKDXN",
        "outputId": "36049d48-7df3-4bcc-d5e7-fa3514c59f19"
      },
      "execution_count": 96,
      "outputs": [
        {
          "output_type": "execute_result",
          "data": {
            "text/plain": [
              "{'El libro de la selva', 'Enredados', 'La Sirenita'}"
            ]
          },
          "metadata": {},
          "execution_count": 96
        }
      ]
    },
    {
      "cell_type": "code",
      "source": [
        "#Intersección \n",
        "A & B"
      ],
      "metadata": {
        "colab": {
          "base_uri": "https://localhost:8080/"
        },
        "id": "ABEmRlfFKabM",
        "outputId": "0263f8f3-a0f3-4440-d4b1-d1bd3200bee1"
      },
      "execution_count": 97,
      "outputs": [
        {
          "output_type": "execute_result",
          "data": {
            "text/plain": [
              "{'Enredados'}"
            ]
          },
          "metadata": {},
          "execution_count": 97
        }
      ]
    },
    {
      "cell_type": "code",
      "source": [
        "#Unión\n",
        "A.union(B)"
      ],
      "metadata": {
        "colab": {
          "base_uri": "https://localhost:8080/"
        },
        "id": "JqsOshoFKuSX",
        "outputId": "4a5fbd39-897a-4523-c964-05921e1cb361"
      },
      "execution_count": 99,
      "outputs": [
        {
          "output_type": "execute_result",
          "data": {
            "text/plain": [
              "{'El libro de la selva',\n",
              " 'Enredados',\n",
              " 'La Sirenita',\n",
              " 'Piratas de caribe',\n",
              " 'Toy Story'}"
            ]
          },
          "metadata": {},
          "execution_count": 99
        }
      ]
    },
    {
      "cell_type": "code",
      "source": [
        "#Elementos diferentes en los conjuntos\n",
        "A.difference(B)"
      ],
      "metadata": {
        "colab": {
          "base_uri": "https://localhost:8080/"
        },
        "id": "7M48ukCIKfCM",
        "outputId": "fe3c65d8-d14e-4c64-eedd-3960008dc1e6"
      },
      "execution_count": 100,
      "outputs": [
        {
          "output_type": "execute_result",
          "data": {
            "text/plain": [
              "{'Piratas de caribe', 'Toy Story'}"
            ]
          },
          "metadata": {},
          "execution_count": 100
        }
      ]
    },
    {
      "cell_type": "code",
      "source": [
        "B.difference(A)"
      ],
      "metadata": {
        "colab": {
          "base_uri": "https://localhost:8080/"
        },
        "id": "tpZQ3fMfL6B6",
        "outputId": "c5430a01-9c67-4f97-cd26-e1c54cfca718"
      },
      "execution_count": 101,
      "outputs": [
        {
          "output_type": "execute_result",
          "data": {
            "text/plain": [
              "{'El libro de la selva', 'La Sirenita'}"
            ]
          },
          "metadata": {},
          "execution_count": 101
        }
      ]
    },
    {
      "cell_type": "markdown",
      "source": [
        "###Diccionarios"
      ],
      "metadata": {
        "id": "QDtVMDgMNlA9"
      }
    },
    {
      "cell_type": "markdown",
      "source": [
        "###Los diccionarios son una colección de objetos, se definen entre corches {}, identificando una llave y el valor por cada elemento (ejemplo: Diccionario={llave:valor})"
      ],
      "metadata": {
        "id": "nrOMSq50NvrP"
      }
    },
    {
      "cell_type": "code",
      "source": [
        "diccionario = {\"llave1\":\"gato\",\"llave2\":\"perro\"}\n",
        "diccionario"
      ],
      "metadata": {
        "colab": {
          "base_uri": "https://localhost:8080/"
        },
        "id": "WmqbkeMsNn8e",
        "outputId": "43129078-2185-4a65-d65b-5865270cdbce"
      },
      "execution_count": 103,
      "outputs": [
        {
          "output_type": "execute_result",
          "data": {
            "text/plain": [
              "{'llave1': 'gato', 'llave2': 'perro'}"
            ]
          },
          "metadata": {},
          "execution_count": 103
        }
      ]
    },
    {
      "cell_type": "code",
      "source": [
        "diccionario[\"llave2\"]"
      ],
      "metadata": {
        "colab": {
          "base_uri": "https://localhost:8080/",
          "height": 35
        },
        "id": "vC_st520PIaA",
        "outputId": "752376cb-3994-4fe4-b9d5-53ab76c0dcdf"
      },
      "execution_count": 104,
      "outputs": [
        {
          "output_type": "execute_result",
          "data": {
            "text/plain": [
              "'perro'"
            ],
            "application/vnd.google.colaboratory.intrinsic+json": {
              "type": "string"
            }
          },
          "metadata": {},
          "execution_count": 104
        }
      ]
    }
  ]
}