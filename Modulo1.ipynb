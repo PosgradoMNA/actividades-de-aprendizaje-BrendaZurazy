{
  "nbformat": 4,
  "nbformat_minor": 0,
  "metadata": {
    "colab": {
      "provenance": [],
      "collapsed_sections": [],
      "authorship_tag": "ABX9TyMPlyh+riDuHBa1PJ5DEyMn",
      "include_colab_link": true
    },
    "kernelspec": {
      "name": "python3",
      "display_name": "Python 3"
    },
    "language_info": {
      "name": "python"
    }
  },
  "cells": [
    {
      "cell_type": "markdown",
      "metadata": {
        "id": "view-in-github",
        "colab_type": "text"
      },
      "source": [
        "<a href=\"https://colab.research.google.com/github/PosgradoMNA/actividades-de-aprendizaje-BrendaZurazy/blob/main/Modulo1.ipynb\" target=\"_parent\"><img src=\"https://colab.research.google.com/assets/colab-badge.svg\" alt=\"Open In Colab\"/></a>"
      ]
    },
    {
      "cell_type": "markdown",
      "source": [
        "# Python for Data Science (IBM)\n",
        "\n",
        "##Módulo 1"
      ],
      "metadata": {
        "id": "NM57vb0YX2Dv"
      }
    },
    {
      "cell_type": "markdown",
      "source": [
        "### Mi primer programa"
      ],
      "metadata": {
        "id": "Rbm9mlMlShWD"
      }
    },
    {
      "cell_type": "code",
      "source": [
        "#Print Hello Python 101\n",
        "print('Hello Pyton 101')"
      ],
      "metadata": {
        "colab": {
          "base_uri": "https://localhost:8080/"
        },
        "id": "T4Z5wuZLX-QB",
        "outputId": "0a99c379-ecd1-4dec-d581-6462c4ac2f47"
      },
      "execution_count": null,
      "outputs": [
        {
          "output_type": "stream",
          "name": "stdout",
          "text": [
            "Hello Pyton 101\n"
          ]
        }
      ]
    },
    {
      "cell_type": "code",
      "source": [
        "print('Hello\\nWorld!')"
      ],
      "metadata": {
        "colab": {
          "base_uri": "https://localhost:8080/"
        },
        "id": "3LpFLK-JbZGc",
        "outputId": "a1f13480-bd76-454b-a89f-8ab04e234dff"
      },
      "execution_count": null,
      "outputs": [
        {
          "output_type": "stream",
          "name": "stdout",
          "text": [
            "Hello\n",
            "World!\n"
          ]
        }
      ]
    },
    {
      "cell_type": "markdown",
      "source": [
        "### Conversión tipos de variable"
      ],
      "metadata": {
        "id": "_SY9iu2ZNmDB"
      }
    },
    {
      "cell_type": "code",
      "source": [
        "#De entero a Float\n",
        "float(2)"
      ],
      "metadata": {
        "colab": {
          "base_uri": "https://localhost:8080/"
        },
        "id": "P0sADn8dNv7z",
        "outputId": "ab71f1b9-b277-49a8-ae4c-071f30b3cec4"
      },
      "execution_count": 1,
      "outputs": [
        {
          "output_type": "execute_result",
          "data": {
            "text/plain": [
              "2.0"
            ]
          },
          "metadata": {},
          "execution_count": 1
        }
      ]
    },
    {
      "cell_type": "code",
      "source": [
        "#De Foat a entero\n",
        "int(1.1)"
      ],
      "metadata": {
        "colab": {
          "base_uri": "https://localhost:8080/"
        },
        "id": "7ZgKTMIhN9XH",
        "outputId": "468757ab-2366-495c-dd5d-4f85ab5f1963"
      },
      "execution_count": 2,
      "outputs": [
        {
          "output_type": "execute_result",
          "data": {
            "text/plain": [
              "1"
            ]
          },
          "metadata": {},
          "execution_count": 2
        }
      ]
    },
    {
      "cell_type": "code",
      "source": [
        "#De cadena a entero\n",
        "int('1')"
      ],
      "metadata": {
        "colab": {
          "base_uri": "https://localhost:8080/"
        },
        "id": "bUMkWSVHOG-p",
        "outputId": "d8b88515-08b3-4bdd-cbd5-f17bbce485b1"
      },
      "execution_count": 3,
      "outputs": [
        {
          "output_type": "execute_result",
          "data": {
            "text/plain": [
              "1"
            ]
          },
          "metadata": {},
          "execution_count": 3
        }
      ]
    },
    {
      "cell_type": "markdown",
      "source": [
        "Se pueden convertir valores numéricos a cadenas (strings) pero no de cadenas a numérico"
      ],
      "metadata": {
        "id": "MQ-5KfptPDSu"
      }
    },
    {
      "cell_type": "markdown",
      "source": [
        "Las variable de tipo boolean solo contienen dos valores \"TRUE\" y \"FALSO\""
      ],
      "metadata": {
        "id": "GyOpXDcRPqz_"
      }
    },
    {
      "cell_type": "markdown",
      "source": [
        "### Operaciones matemáticas"
      ],
      "metadata": {
        "id": "WUnf_wMERQnT"
      }
    },
    {
      "cell_type": "code",
      "source": [
        "#Operador suma '+'\n",
        "9+6"
      ],
      "metadata": {
        "colab": {
          "base_uri": "https://localhost:8080/"
        },
        "id": "iGjTDcYmRZoC",
        "outputId": "e96cb7df-e971-40b6-df15-e9730f7da91c"
      },
      "execution_count": 4,
      "outputs": [
        {
          "output_type": "execute_result",
          "data": {
            "text/plain": [
              "15"
            ]
          },
          "metadata": {},
          "execution_count": 4
        }
      ]
    },
    {
      "cell_type": "code",
      "source": [
        "#Operador resta '-'\n",
        "15-2"
      ],
      "metadata": {
        "colab": {
          "base_uri": "https://localhost:8080/"
        },
        "id": "6z75zbkLSQFB",
        "outputId": "541bbedb-64c3-459b-fb2a-1d77d5b5006e"
      },
      "execution_count": 5,
      "outputs": [
        {
          "output_type": "execute_result",
          "data": {
            "text/plain": [
              "13"
            ]
          },
          "metadata": {},
          "execution_count": 5
        }
      ]
    },
    {
      "cell_type": "code",
      "source": [
        "#Operador de la multiplicación '*'\n",
        "4*9"
      ],
      "metadata": {
        "colab": {
          "base_uri": "https://localhost:8080/"
        },
        "id": "2yBPNCGfSUr3",
        "outputId": "cc832bc4-2cde-4368-910c-5168e04413ee"
      },
      "execution_count": 6,
      "outputs": [
        {
          "output_type": "execute_result",
          "data": {
            "text/plain": [
              "36"
            ]
          },
          "metadata": {},
          "execution_count": 6
        }
      ]
    },
    {
      "cell_type": "code",
      "source": [
        "#Operador de la división\n",
        "70/6"
      ],
      "metadata": {
        "colab": {
          "base_uri": "https://localhost:8080/"
        },
        "id": "kvUduLMESaCT",
        "outputId": "579b8c7d-20b3-48ac-a6f9-79c57776f7ed"
      },
      "execution_count": 7,
      "outputs": [
        {
          "output_type": "execute_result",
          "data": {
            "text/plain": [
              "11.666666666666666"
            ]
          },
          "metadata": {},
          "execution_count": 7
        }
      ]
    },
    {
      "cell_type": "markdown",
      "source": [
        "### Operaciones con Cadenas"
      ],
      "metadata": {
        "id": "a5LnqP-3bUYJ"
      }
    },
    {
      "cell_type": "code",
      "source": [
        "Name = \"The godfather movie\""
      ],
      "metadata": {
        "id": "lA-ZjMH_blUB"
      },
      "execution_count": 32,
      "outputs": []
    },
    {
      "cell_type": "code",
      "source": [
        "#Podemos acceder a cualquier parte de la cadena indicando su posición\n",
        "Name[0]"
      ],
      "metadata": {
        "colab": {
          "base_uri": "https://localhost:8080/",
          "height": 35
        },
        "id": "XL-9BxvHcyB4",
        "outputId": "c63f967f-655d-4697-fef1-888d63b4a172"
      },
      "execution_count": 33,
      "outputs": [
        {
          "output_type": "execute_result",
          "data": {
            "text/plain": [
              "'T'"
            ],
            "application/vnd.google.colaboratory.intrinsic+json": {
              "type": "string"
            }
          },
          "metadata": {},
          "execution_count": 33
        }
      ]
    },
    {
      "cell_type": "code",
      "source": [
        "#Extraer una parte de la cadena\n",
        "Name[0:4]"
      ],
      "metadata": {
        "colab": {
          "base_uri": "https://localhost:8080/",
          "height": 35
        },
        "id": "Qy7wDYlPdE_q",
        "outputId": "9e641605-7eae-441b-ed5d-bfba9835b0f9"
      },
      "execution_count": 34,
      "outputs": [
        {
          "output_type": "execute_result",
          "data": {
            "text/plain": [
              "'The '"
            ],
            "application/vnd.google.colaboratory.intrinsic+json": {
              "type": "string"
            }
          },
          "metadata": {},
          "execution_count": 34
        }
      ]
    },
    {
      "cell_type": "code",
      "source": [
        "#Para saber la longitud de una cadena se usa len\n",
        "len(Name)"
      ],
      "metadata": {
        "colab": {
          "base_uri": "https://localhost:8080/"
        },
        "id": "ynjKY8-3ddob",
        "outputId": "aad7256b-e52d-46bd-e694-ebdaccf13ece"
      },
      "execution_count": 38,
      "outputs": [
        {
          "output_type": "execute_result",
          "data": {
            "text/plain": [
              "19"
            ]
          },
          "metadata": {},
          "execution_count": 38
        }
      ]
    },
    {
      "cell_type": "code",
      "source": [
        "#Concatenar cadenas con +\n",
        "Enunciado = Name + \" is the best\"\n",
        "Enunciado"
      ],
      "metadata": {
        "colab": {
          "base_uri": "https://localhost:8080/",
          "height": 35
        },
        "id": "rc7Mu8zEc5SI",
        "outputId": "a63814b9-69cc-4796-bece-d5d6083c795c"
      },
      "execution_count": 37,
      "outputs": [
        {
          "output_type": "execute_result",
          "data": {
            "text/plain": [
              "'The godfather movie is the best'"
            ],
            "application/vnd.google.colaboratory.intrinsic+json": {
              "type": "string"
            }
          },
          "metadata": {},
          "execution_count": 37
        }
      ]
    },
    {
      "cell_type": "code",
      "source": [
        "len(Enunciado)"
      ],
      "metadata": {
        "colab": {
          "base_uri": "https://localhost:8080/"
        },
        "id": "4DN6xOVXhigI",
        "outputId": "d7d4de68-3873-465d-ebc9-0bce2bc6fe54"
      },
      "execution_count": 39,
      "outputs": [
        {
          "output_type": "execute_result",
          "data": {
            "text/plain": [
              "31"
            ]
          },
          "metadata": {},
          "execution_count": 39
        }
      ]
    },
    {
      "cell_type": "code",
      "source": [
        "#Duplicar la cadena tantas veces se necesite\n",
        "3* \" Tengo mucha tarea\""
      ],
      "metadata": {
        "colab": {
          "base_uri": "https://localhost:8080/",
          "height": 35
        },
        "id": "TfCaWinSdqUS",
        "outputId": "2fa26476-7c22-49b0-fee4-46a455a14670"
      },
      "execution_count": 53,
      "outputs": [
        {
          "output_type": "execute_result",
          "data": {
            "text/plain": [
              "' Tengo mucha tarea Tengo mucha tarea Tengo mucha tarea'"
            ],
            "application/vnd.google.colaboratory.intrinsic+json": {
              "type": "string"
            }
          },
          "metadata": {},
          "execution_count": 53
        }
      ]
    },
    {
      "cell_type": "code",
      "source": [
        "#Se puede poner una cadena en dos líneas con \"\\n\"\n",
        "print(\"Michael Jackson \\n is the best\")"
      ],
      "metadata": {
        "colab": {
          "base_uri": "https://localhost:8080/"
        },
        "id": "HrLqKpcmd7JO",
        "outputId": "0adca23c-fe92-45ed-9a47-80b3c455dae9"
      },
      "execution_count": 42,
      "outputs": [
        {
          "output_type": "stream",
          "name": "stdout",
          "text": [
            "Michael Jackson \n",
            " is the best\n"
          ]
        }
      ]
    },
    {
      "cell_type": "code",
      "source": [
        "#Se puede poner un espacio de tabulador en una cadena con \"\\t\"\n",
        "print(\"Michael Jackson \\t is the best\")"
      ],
      "metadata": {
        "colab": {
          "base_uri": "https://localhost:8080/"
        },
        "id": "uQEfxRg7ew1I",
        "outputId": "7ba495d8-7922-448f-eea0-742e5c6307c4"
      },
      "execution_count": 43,
      "outputs": [
        {
          "output_type": "stream",
          "name": "stdout",
          "text": [
            "Michael Jackson \t is the best\n"
          ]
        }
      ]
    },
    {
      "cell_type": "code",
      "source": [
        "#Para poner un ´\\´ en una cadena con \"\\\\\"\n",
        "print(\"Michael Jackson \\\\ is the best\")"
      ],
      "metadata": {
        "colab": {
          "base_uri": "https://localhost:8080/"
        },
        "id": "2_0ILmVVfMwN",
        "outputId": "4292b105-7ee9-49c1-e191-94d8692d3e61"
      },
      "execution_count": 44,
      "outputs": [
        {
          "output_type": "stream",
          "name": "stdout",
          "text": [
            "Michael Jackson \\ is the best\n"
          ]
        }
      ]
    },
    {
      "cell_type": "code",
      "source": [
        "#Para poner un espacio antes del inicio de una cadena\n",
        "print(r\"Michael Jackson \\ is the best\")"
      ],
      "metadata": {
        "colab": {
          "base_uri": "https://localhost:8080/"
        },
        "id": "XkNF-srvfeVX",
        "outputId": "bd25eebf-29a0-4460-ddc7-2c97fc401ba3"
      },
      "execution_count": 45,
      "outputs": [
        {
          "output_type": "stream",
          "name": "stdout",
          "text": [
            "Michael Jackson \\ is the best\n"
          ]
        }
      ]
    },
    {
      "cell_type": "code",
      "source": [
        "#Pasar de minúsculas a mayusculas\n",
        "A=\"The thriller is the sixth studio album \"\n",
        "B=A.upper()\n",
        "B"
      ],
      "metadata": {
        "colab": {
          "base_uri": "https://localhost:8080/",
          "height": 35
        },
        "id": "f2yXBRT6eiIQ",
        "outputId": "857e647e-6c7a-452e-f756-d56c28eb3b8f"
      },
      "execution_count": 46,
      "outputs": [
        {
          "output_type": "execute_result",
          "data": {
            "text/plain": [
              "'THE THRILLER IS THE SIXTH STUDIO ALBUM '"
            ],
            "application/vnd.google.colaboratory.intrinsic+json": {
              "type": "string"
            }
          },
          "metadata": {},
          "execution_count": 46
        }
      ]
    },
    {
      "cell_type": "code",
      "source": [
        "#Reemplazar una parte de una cadena\n",
        "C=Enunciado.replace(\"godfather\", \"Paradise Cinema\")\n",
        "C"
      ],
      "metadata": {
        "colab": {
          "base_uri": "https://localhost:8080/",
          "height": 35
        },
        "id": "PWJJo8dSgmfT",
        "outputId": "b58fbd75-7d07-41e7-da19-f8e681d8b05f"
      },
      "execution_count": 48,
      "outputs": [
        {
          "output_type": "execute_result",
          "data": {
            "text/plain": [
              "'The Paradise Cinema movie is the best'"
            ],
            "application/vnd.google.colaboratory.intrinsic+json": {
              "type": "string"
            }
          },
          "metadata": {},
          "execution_count": 48
        }
      ]
    },
    {
      "cell_type": "code",
      "source": [
        "#Buscar una parte de una cadena\n",
        "Enunciado.find(\"The\")"
      ],
      "metadata": {
        "colab": {
          "base_uri": "https://localhost:8080/"
        },
        "id": "cH9IXOZDgZN6",
        "outputId": "4847a912-2886-4249-f5e9-0627f3535426"
      },
      "execution_count": 50,
      "outputs": [
        {
          "output_type": "execute_result",
          "data": {
            "text/plain": [
              "0"
            ]
          },
          "metadata": {},
          "execution_count": 50
        }
      ]
    }
  ]
}